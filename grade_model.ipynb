{
 "cells": [
  {
   "cell_type": "raw",
   "metadata": {},
   "source": [
    "---\n",
    "format: \n",
    "  html:\n",
    "    toc: true\n",
    "    toc-depth: 4\n",
    "    code-fold: true\n",
    "    self-contained: true\n",
    "jupyter: python3\n",
    "---"
   ]
  },
  {
   "cell_type": "code",
   "execution_count": null,
   "metadata": {},
   "outputs": [],
   "source": [
    "%matplotlib inline\n",
    "import matplotlib.pyplot as plt\n",
    "import numpy as np\n",
    "import pandas as pd\n",
    "import seaborn as sns\n",
    "import statsmodels.formula.api as smf\n",
    "\n",
    "sns.set_theme(style='white', palette='rainbow', font_scale=1.2)\n",
    "import warnings\n",
    "warnings.filterwarnings('ignore')"
   ]
  },
  {
   "cell_type": "code",
   "execution_count": null,
   "metadata": {},
   "outputs": [],
   "source": [
    "data = pd.read_csv(\"data/student-mat.csv\")\n",
    "data.head()"
   ]
  },
  {
   "cell_type": "code",
   "execution_count": null,
   "metadata": {},
   "outputs": [],
   "source": [
    "data.shape"
   ]
  },
  {
   "cell_type": "code",
   "execution_count": null,
   "metadata": {},
   "outputs": [],
   "source": [
    "#check missing data -> There are no missing data\n",
    "print(f\"Length: {len(data)}\")\n",
    "print(f\"Shape: {data.shape}\")\n",
    "print(f\"Columns: {data.columns}\")\n",
    "data.isnull().any()"
   ]
  },
  {
   "cell_type": "markdown",
   "metadata": {},
   "source": [
    "## Visualize Resp"
   ]
  },
  {
   "cell_type": "code",
   "execution_count": null,
   "metadata": {},
   "outputs": [],
   "source": [
    "fig = plt.figure(figsize=(20, 16))\n",
    "data.loc[data.G3 < 12, 'G3_binary'] = 0\n",
    "data.loc[data.G3 >= 12, 'G3_binary'] = 1\n",
    "data.head()"
   ]
  },
  {
   "cell_type": "code",
   "execution_count": null,
   "metadata": {},
   "outputs": [],
   "source": [
    "fig = plt.figure(figsize=(6, 8))\n",
    "fig.add_subplot(2, 1, 1)\n",
    "sns.countplot(x='G3', data=data, order=data['G3'].value_counts().index).set_title(\"Grade Distribution\")\n",
    "fig.add_subplot(2, 1, 2)\n",
    "sns.countplot(x=data.G3_binary, order=data.G3_binary.value_counts().index)"
   ]
  },
  {
   "cell_type": "code",
   "execution_count": null,
   "outputs": [],
   "source": [
    "# plt.figure(figsize=(25, 16))\n",
    "# sns.heatmap(data.corr(numeric_only=True), annot=True, cmap='Blues')"
   ],
   "metadata": {
    "collapsed": false
   }
  },
  {
   "cell_type": "markdown",
   "metadata": {},
   "source": [
    "### Age & Gender"
   ]
  },
  {
   "cell_type": "code",
   "execution_count": null,
   "metadata": {},
   "outputs": [],
   "source": [
    "### Marking Final Grade as Categorical Value & Viewing their Count\n",
    "data['finalGrade'] = np.where(data['G3'] >= 12, 'Pass', 'Fail')\n",
    "data['finalGrade'].replace(['Fail', 'Pass'], [0, 1], inplace=True)\n",
    "sns.countplot(x='finalGrade', data=data)"
   ]
  },
  {
   "cell_type": "code",
   "execution_count": null,
   "metadata": {},
   "outputs": [],
   "source": [
    "fig, axes = plt.subplots(2, 1, figsize=(12, 8))\n",
    "\n",
    "age_pl = sns.countplot(data=data, x='age', hue='sex', ax=axes[0])\n",
    "age_pl.axes.set_title('Number of students in different age groups', fontsize=12)\n",
    "age_pl.set_xlabel(\"Age\", fontsize=8)\n",
    "age_pl.set_ylabel(\"Count\", fontsize=8)\n",
    "\n",
    "sns.boxenplot(x='finalGrade', y='age', data=data, ax=axes[1])\n",
    "plt.show()"
   ]
  },
  {
   "cell_type": "code",
   "execution_count": null,
   "metadata": {},
   "outputs": [],
   "source": [
    "#Whether there's a gender difference in grade distribution in G3\n",
    "fig, axes = plt.subplots(1, 3, figsize=(12, 4))\n",
    "ax1 = sns.boxplot(data=data, x='sex', y='G1', ax=axes[0])\n",
    "ax1.set_title('G1')\n",
    "ax2 = sns.boxplot(data=data, x='sex', y='G2', ax=axes[1])\n",
    "ax2.set_title('G2')\n",
    "ax3 = sns.boxplot(data=data, x='sex', y='G3', ax=axes[2])\n",
    "ax3.set_title('G3')\n",
    "plt.show()"
   ]
  },
  {
   "cell_type": "code",
   "execution_count": null,
   "metadata": {},
   "outputs": [],
   "source": [
    "age_data = data.groupby('age')['finalGrade'].agg([('pass_rate', 'mean'), ('nobs', 'count')]).reset_index(drop=False)\n",
    "sns.lineplot(x=age_data.age, y=age_data['pass_rate'])\n",
    "plt.xlabel('age')\n"
   ]
  },
  {
   "cell_type": "code",
   "execution_count": null,
   "metadata": {},
   "outputs": [],
   "source": [
    "g = sns.catplot(\n",
    "    data=data, x=\"sex\", y=\"finalGrade\", col=\"age\",\n",
    "    kind=\"bar\", height=4, aspect=.6,\n",
    ")\n",
    "g.set_axis_labels(\"\", \"pass Rate\")\n",
    "g.set_xticklabels([\"Male\", \"Female\"])\n",
    "g.set_titles(\"{col_name} {col_var}\")\n",
    "g.set(ylim=(0, 1))\n",
    "g.despine(left=True)"
   ]
  },
  {
   "cell_type": "markdown",
   "metadata": {},
   "source": [
    "### Study-related"
   ]
  },
  {
   "cell_type": "code",
   "execution_count": null,
   "metadata": {},
   "outputs": [],
   "source": [
    "fig = plt.figure(figsize=(20, 16))\n",
    "fig.add_subplot(2, 2, 1)\n",
    "sns.boxplot(x='paid', y='G3', data=data).set_title('Extra Class vs G3')\n",
    "\n",
    "fig.add_subplot(2, 2, 2)\n",
    "sns.boxplot(x='studytime', y='G3', data=data).set_title('Study time vs G3')\n",
    "\n",
    "fig.add_subplot(2, 2, 3)\n",
    "sns.boxplot(x='traveltime', y='G3', data=data).set_title('Travel time wrt Score G3')\n",
    "\n",
    "fig.add_subplot(2, 2, 4)\n",
    "sns.boxplot(x='internet', y='G3', data=data).set_title('Internet Access vs G3')"
   ]
  },
  {
   "cell_type": "markdown",
   "metadata": {},
   "source": [
    "## Address: Rural / Urban"
   ]
  },
  {
   "cell_type": "code",
   "execution_count": null,
   "metadata": {},
   "outputs": [],
   "source": [
    "add_plt = sns.countplot(data=data, x='address', hue=\"finalGrade\")\n",
    "add_plt.axes.set_title('Urban and Rural students', fontsize=12)\n",
    "add_plt.set_xlabel('Address', fontsize=12)\n",
    "add_plt.set_ylabel('Count', fontsize=12)"
   ]
  },
  {
   "cell_type": "markdown",
   "metadata": {},
   "source": [
    "### Parents Education\n",
    "Medu - mother's education (numeric: 0 - none, 1 - primary education (4th grade), 2 â€“ 5th to 9th grade, 3 â€“ secondary education or 4 â€“ higher education)\n",
    "\n",
    "Fedu - father's education (numeric: 0 - none, 1 - primary education (4th grade), 2 â€“ 5th to 9th grade, 3 â€“ secondary education or 4 â€“ higher education)"
   ]
  },
  {
   "cell_type": "code",
   "execution_count": null,
   "metadata": {},
   "outputs": [],
   "source": [
    "family_ed = data['Fedu'] + data['Medu']\n",
    "# add_plt = sns.countplot(data = data, x =family_ed, hue = \"Final Grade\")\n",
    "\n",
    "fig, axes = plt.subplots(1, 2, figsize=(15, 8))\n",
    "ax1 = sns.boxplot(data=data, x=family_ed, y='G1', ax=axes[0])\n",
    "ax1.set_title('G1')\n",
    "ax2 = sns.boxplot(data=data, x=family_ed, y='G2', ax=axes[1])\n",
    "ax2.set_title('G2')\n",
    "\n",
    "fig.suptitle('Educated families result in Potentail higher grades in G1 & G2', fontsize=20)"
   ]
  },
  {
   "cell_type": "markdown",
   "metadata": {},
   "source": [
    "### Social Factors"
   ]
  },
  {
   "cell_type": "code",
   "execution_count": null,
   "metadata": {},
   "outputs": [],
   "source": [
    "fig = plt.figure(figsize=(20, 12))\n",
    "fig.add_subplot(2, 2, 1)\n",
    "sns.boxplot(x='activities', y='G3', data=data).set_title('Extra-curricular activities vs G3')\n",
    "fig.add_subplot(2, 2, 2)\n",
    "sns.boxplot(x='schoolsup', y='G3', data=data).set_title('School Support vs G3')\n",
    "fig.add_subplot(2, 2, 3)\n",
    "sns.boxplot(x='famsup', y='G3', data=data).set_title('Family Support vs G3')\n",
    "fig.add_subplot(2, 2, 4)\n",
    "sns.boxplot(x='romantic', y='G3', data=data).set_title('Romantic Relation vs G3')"
   ]
  },
  {
   "cell_type": "markdown",
   "metadata": {},
   "source": [
    "## Behavioral"
   ]
  },
  {
   "cell_type": "code",
   "execution_count": null,
   "metadata": {},
   "outputs": [],
   "source": [
    "fig = plt.figure(figsize=(12, 4))\n",
    "fig.add_subplot(1, 2, 1)\n",
    "sns.boxplot(x='Dalc', y='G3', data=data).set_title('Dalc vs G3')\n",
    "fig.add_subplot(1, 2, 2)\n",
    "sns.boxplot(x='Walc', y='G3', data=data).set_title('Walc vs G3')"
   ]
  },
  {
   "cell_type": "code",
   "execution_count": null,
   "metadata": {},
   "outputs": [],
   "source": [
    "fig = plt.figure(figsize=(20, 12))\n",
    "fig.add_subplot(2, 2, 1)\n",
    "alc = data['Dalc'] + data['Walc']\n",
    "sns.boxplot(x=alc, y='G3', data=data).set_title('Alcohol vs G3')\n",
    "fig.add_subplot(2, 2, 2)\n",
    "sns.boxplot(x='failures', y='G3', data=data).set_title('Failures vs G3')\n",
    "fig.add_subplot(2, 2, 3)\n",
    "sns.boxplot(x='schoolsup', y='G3', data=data).set_title('schoolsup vs G3')\n",
    "fig.add_subplot(2, 2, 4)\n",
    "sns.boxplot(x='romantic', y='G3', data=data).set_title('romantic vs G3')"
   ]
  },
  {
   "cell_type": "code",
   "execution_count": null,
   "metadata": {},
   "outputs": [],
   "source": [
    "fig = plt.figure(figsize=(16, 12))\n",
    "fig.add_subplot(2, 2, 1)\n",
    "sns.regplot(x='G1', y='G3', data=data, line_kws={'color': 'skyblue'}).set_title('G1 versus G3')\n",
    "fig.add_subplot(2, 2, 2)\n",
    "sns.regplot(x='G2', y='G3', data=data, line_kws={'color': 'skyblue'}).set_title('G2 versus G3')"
   ]
  },
  {
   "cell_type": "markdown",
   "metadata": {},
   "source": [
    "## Pre-Processsing"
   ]
  },
  {
   "cell_type": "markdown",
   "metadata": {},
   "source": [
    "## Train Test Split"
   ]
  },
  {
   "cell_type": "code",
   "execution_count": null,
   "metadata": {},
   "outputs": [],
   "source": [
    "# train = split\n",
    "from sklearn.model_selection import train_test_split, KFold\n",
    "\n",
    "k_fold = KFold(n_splits=10, random_state=1, shuffle=True)\n",
    "train, test, y_train, y_test = train_test_split(X, y, test_size=0.2, random_state=1)\n",
    "train.head()"
   ]
  },
  {
   "cell_type": "markdown",
   "metadata": {},
   "source": [
    "# Linear Regression Model"
   ]
  },
  {
   "cell_type": "code",
   "execution_count": null,
   "metadata": {},
   "outputs": [],
   "source": [
    "train = pd.DataFrame(train)\n",
    "train.head(3)"
   ]
  },
  {
   "cell_type": "code",
   "execution_count": null,
   "metadata": {},
   "outputs": [],
   "source": [
    "# function to test prediction accuracy\n",
    "def acc(_lm, _Xtest, _ytest):\n",
    "    y_pred = _lm.predict(_Xtest)\n",
    "    df = pd.concat([y_pred, _ytest], axis=1)\n",
    "    test_res = pd.DataFrame(df, columns=[\"predicted\", \"actual\"], dtype=\"float64\")\n",
    "    test_res[y_pred < 12], test_res[y_pred >= 12] = 0, 1\n",
    "    test_res[y_pred < 6], test_res[y_pred >= 12] = 0, 1\n",
    "    y_test[y_test < 12], y_test[y_test >= 12] = 0, 1\n",
    "    return np.mean(test_res.predicted == test_res.actual)\n",
    "\n",
    "\n",
    "# function to format and print result\n",
    "def display_res(lm_formula):\n",
    "    r2 = smf.ols(formula=lm_formula, data=train).fit().rsquared\n",
    "    acc_test = acc(lm, test, y_test)\n",
    "    acc_full = acc(lm, X, y)\n",
    "    print(f\"{lm_formula}\\nR-Squared = {r2:.4f}\\nAccuracy on test set: {acc_test}\\tfull dataset: {acc_full}\")"
   ]
  },
  {
   "cell_type": "code",
   "execution_count": null,
   "metadata": {},
   "outputs": [],
   "source": [
    "lm0 = 'G3 ~ absences'\n",
    "display_res(lm0)"
   ]
  },
  {
   "cell_type": "code",
   "execution_count": null,
   "metadata": {},
   "outputs": [],
   "source": [
    "lm1 = 'G3 ~ absences + failures'\n",
    "display_res(lm1)"
   ]
  },
  {
   "cell_type": "code",
   "execution_count": null,
   "metadata": {},
   "outputs": [],
   "source": [
    "lm2 = 'G3 ~ absences + failures  + alc'\n",
    "display_res(lm2)"
   ]
  },
  {
   "cell_type": "code",
   "execution_count": null,
   "metadata": {},
   "outputs": [],
   "source": [
    "lm3 = 'G3 ~ absences + failures + alc + Fjob'\n",
    "display_res(lm3)"
   ]
  },
  {
   "cell_type": "code",
   "execution_count": null,
   "metadata": {},
   "outputs": [],
   "source": [
    "lm4 = 'G3 ~ absences + failures + schoolsup + romantic'\n",
    "display_res(lm4)"
   ]
  },
  {
   "cell_type": "markdown",
   "metadata": {},
   "source": [
    "# Nested Logistic Regression Model"
   ]
  },
  {
   "cell_type": "markdown",
   "metadata": {},
   "source": [
    "Logistic regression using `G1` and `G2` as predictors"
   ]
  },
  {
   "cell_type": "code",
   "execution_count": null,
   "metadata": {},
   "outputs": [],
   "source": [
    "nested_train = train[['G1', 'G2', 'G3']]\n",
    "nested_test = test[['G1', 'G2', 'G3']]"
   ]
  },
  {
   "cell_type": "code",
   "execution_count": null,
   "metadata": {},
   "outputs": [],
   "source": [
    "bins = pd.qcut(nested_train['G3'], 4, retbins=True)[1]\n",
    "nested_train['G3_binned'] = pd.cut(nested_train['G3'], labels=['Q1', 'Q2', 'Q3', 'Q4'], bins=bins, include_lowest=True)\n",
    "nested_test['G3_binned'] = pd.cut(nested_test['G3'], labels=['Q1', 'Q2', 'Q3', 'Q4'], bins=bins, include_lowest=True)"
   ]
  },
  {
   "cell_type": "code",
   "execution_count": null,
   "metadata": {},
   "outputs": [],
   "source": [
    "nested_train"
   ]
  },
  {
   "cell_type": "code",
   "execution_count": null,
   "metadata": {},
   "outputs": [],
   "source": [
    "nested_train['G3_lower_50'] = (nested_train['G3_binned'] == 'Q1') | (nested_train['G3_binned'] == 'Q2')\n",
    "nested_train['G3_lower_50'] = nested_train['G3_lower_50'].astype(int)\n",
    "nested_test['G3_lower_50'] = (nested_test['G3_binned'] == 'Q1') | (nested_test['G3_binned'] == 'Q2')\n",
    "nested_test['G3_lower_50'] = nested_test['G3_lower_50'].astype(int)"
   ]
  },
  {
   "cell_type": "code",
   "execution_count": null,
   "metadata": {},
   "outputs": [],
   "source": [
    "def jitter(values, j):\n",
    "    return values + np.random.normal(j, 0.02, values.shape)\n",
    "\n",
    "\n",
    "sns.scatterplot(x=jitter(nested_train.G2, 0), y=jitter(nested_train.G3_lower_50, 0), data=nested_train,\n",
    "                hue=nested_train.G3_binned)\n",
    "logit_model_1 = smf.logit(formula='G3_lower_50~G1+G2', data=nested_train).fit()  #Developing logistic regression model\n",
    "sns.lineplot(x='G2', y=logit_model_1.predict(nested_train), data=nested_train, color='blue')  #Visualizing model\n",
    "plt.legend(loc='lower left')"
   ]
  },
  {
   "cell_type": "code",
   "execution_count": null,
   "metadata": {},
   "outputs": [],
   "source": [
    "logit_model_1.summary()"
   ]
  },
  {
   "cell_type": "code",
   "execution_count": null,
   "metadata": {},
   "outputs": [],
   "source": [
    "#Function to compute confusion matrix and prediction accuracy on test/train data\n",
    "def confusion_matrix_data(_data, actual_values, model, cutoff=0.5):\n",
    "    #Predict the values using the Logit model\n",
    "    pred_values = model.predict(_data)\n",
    "\n",
    "    # Specify the bins\n",
    "    _bins = np.array([0, cutoff, 1])\n",
    "\n",
    "    #Confusion matrix\n",
    "    cm = np.histogram2d(actual_values, pred_values, bins=_bins)[0]\n",
    "    cm_df = pd.DataFrame(cm)\n",
    "    cm_df.columns = ['Predicted 0', 'Predicted 1']\n",
    "    cm_df = cm_df.rename(index={0: 'Actual 0', 1: 'Actual 1'})\n",
    "\n",
    "    # Calculate the accuracy\n",
    "    accuracy = (cm[0, 0] + cm[1, 1]) / cm.sum()\n",
    "    fnr = (cm[1, 0]) / (cm[1, 0] + cm[1, 1])\n",
    "    precision = (cm[1, 1]) / (cm[0, 1] + cm[1, 1])\n",
    "    _fpr = (cm[0, 1]) / (cm[0, 0] + cm[0, 1])\n",
    "    _tpr = (cm[1, 1]) / (cm[1, 0] + cm[1, 1])\n",
    "\n",
    "    #fpr_roc, tpr_roc, auc_thresholds = roc_curve(actual_values, pred_values)\n",
    "    #auc_value = (auc(fpr_roc, tpr_roc))# AUC of ROC\n",
    "    sns.heatmap(cm_df, annot=True, cmap='Blues', fmt='g')\n",
    "    plt.ylabel(\"Actual Values\")\n",
    "    plt.xlabel(\"Predicted Values\")\n",
    "    print(\"Classification accuracy = {:.1%}\".format(accuracy))\n",
    "    print(\"Precision = {:.1%}\".format(precision))\n",
    "    print(\"TPR or Recall = {:.1%}\".format(_tpr))\n",
    "    print(\"FNR = {:.1%}\".format(fnr))\n",
    "    print(\"FPR = {:.1%}\".format(_fpr))\n",
    "    #print(\"ROC-AUC = {:.1%}\".format(auc_value))"
   ]
  },
  {
   "cell_type": "code",
   "execution_count": null,
   "metadata": {},
   "outputs": [],
   "source": [
    "confusion_matrix_data(nested_train, nested_train.G3_lower_50, logit_model_1, 0.5)"
   ]
  },
  {
   "cell_type": "code",
   "execution_count": null,
   "metadata": {},
   "outputs": [],
   "source": [
    "nested_train['pred_lower_50'] = (logit_model_1.predict(nested_train) > .5).astype(int)"
   ]
  },
  {
   "cell_type": "code",
   "execution_count": null,
   "metadata": {},
   "outputs": [],
   "source": [
    "lower_50 = nested_train[nested_train['pred_lower_50'] == 1]"
   ]
  },
  {
   "cell_type": "code",
   "execution_count": null,
   "metadata": {},
   "outputs": [],
   "source": [
    "lower_50['Q1'] = (lower_50['G3_binned'] == 'Q1').astype(int)"
   ]
  },
  {
   "cell_type": "code",
   "execution_count": null,
   "metadata": {},
   "outputs": [],
   "source": [
    "sns.scatterplot(x=jitter(lower_50.G2, 0), y=jitter(lower_50.Q1, 0), data=lower_50, hue=lower_50.G3_binned)\n",
    "logit_model_2 = smf.logit(formula='Q1~G1+G2', data=lower_50).fit()\n",
    "sns.lineplot(x='G2', y=logit_model_2.predict(lower_50), data=lower_50, color='blue')  #Visualizing model"
   ]
  },
  {
   "cell_type": "code",
   "execution_count": null,
   "metadata": {},
   "outputs": [],
   "source": [
    "confusion_matrix_data(lower_50, lower_50.Q1, logit_model_2, 0.5)"
   ]
  },
  {
   "cell_type": "code",
   "execution_count": null,
   "metadata": {},
   "outputs": [],
   "source": [
    "lower_50['pred_Q1'] = (logit_model_2.predict(lower_50) > 0.5).astype(int)"
   ]
  },
  {
   "cell_type": "code",
   "execution_count": null,
   "metadata": {},
   "outputs": [],
   "source": [
    "lower_50['pred'] = np.where(lower_50['pred_Q1'], 'Q1', 'Q2')"
   ]
  },
  {
   "cell_type": "code",
   "execution_count": null,
   "metadata": {},
   "outputs": [],
   "source": [
    "upper_50 = nested_train[nested_train['pred_lower_50'] == 0]\n",
    "upper_50['Q4'] = (upper_50['G3_binned'] == 'Q4').astype(int)"
   ]
  },
  {
   "cell_type": "code",
   "execution_count": null,
   "metadata": {},
   "outputs": [],
   "source": [
    "sns.scatterplot(x=jitter(upper_50.G2, 0), y=jitter(upper_50.Q4, 0), data=upper_50, hue=upper_50.G3_binned)\n",
    "logit_model_3 = smf.logit(formula='Q4~G1+G2', data=upper_50).fit()\n",
    "sns.lineplot(x='G2', y=logit_model_3.predict(upper_50), data=upper_50, color='blue')  #Visualizing model"
   ]
  },
  {
   "cell_type": "code",
   "execution_count": null,
   "metadata": {},
   "outputs": [],
   "source": [
    "confusion_matrix_data(upper_50, upper_50.Q4, logit_model_3, 0.5)"
   ]
  },
  {
   "cell_type": "code",
   "execution_count": null,
   "metadata": {},
   "outputs": [],
   "source": [
    "upper_50['pred_Q4'] = (logit_model_3.predict(upper_50) > 0.5).astype(int)\n",
    "upper_50['pred'] = np.where(upper_50['pred_Q4'], 'Q4', 'Q3')"
   ]
  },
  {
   "cell_type": "code",
   "execution_count": null,
   "metadata": {},
   "outputs": [],
   "source": [
    "nested_train['pred'] = lower_50['pred']\n",
    "nested_train = nested_train.fillna({'pred': upper_50['pred']})"
   ]
  },
  {
   "cell_type": "code",
   "execution_count": null,
   "metadata": {},
   "outputs": [],
   "source": [
    "nested_train['pred_v_actual'] = nested_train['G3_binned'] == nested_train['pred']"
   ]
  },
  {
   "cell_type": "code",
   "execution_count": null,
   "metadata": {},
   "outputs": [],
   "source": [
    "nested_train.head()"
   ]
  },
  {
   "cell_type": "code",
   "execution_count": null,
   "metadata": {},
   "outputs": [],
   "source": [
    "nested_train['pred_v_actual'].sum()"
   ]
  },
  {
   "cell_type": "code",
   "execution_count": null,
   "metadata": {},
   "outputs": [],
   "source": [
    "nested_train['pred_v_actual'].sum() / nested_train.shape[0]"
   ]
  },
  {
   "cell_type": "markdown",
   "metadata": {},
   "source": [
    "**Accuracy of predicting the quartile is 86% on train data.**"
   ]
  },
  {
   "cell_type": "markdown",
   "metadata": {},
   "source": [
    "### With test data"
   ]
  },
  {
   "cell_type": "code",
   "execution_count": null,
   "metadata": {},
   "outputs": [],
   "source": [
    "nested_test['pred_lower_50'] = (logit_model_1.predict(nested_test) > .5).astype(int)"
   ]
  },
  {
   "cell_type": "code",
   "execution_count": null,
   "metadata": {},
   "outputs": [],
   "source": [
    "sns.scatterplot(x=jitter(nested_test.G2, 0), y=jitter(nested_test.G3_lower_50, 0), data=nested_test,\n",
    "                hue=nested_test.G3_binned)\n",
    "logit_model_1 = smf.logit(formula='G3_lower_50~G1+G2', data=nested_test).fit()  #Developing logistic regression model\n",
    "sns.lineplot(x='G2', y=logit_model_1.predict(nested_test), data=nested_test, color='blue')  #Visualizing model"
   ]
  },
  {
   "cell_type": "code",
   "execution_count": null,
   "metadata": {},
   "outputs": [],
   "source": [
    "confusion_matrix_data(nested_test, nested_test.G3_lower_50, logit_model_1, 0.5)"
   ]
  },
  {
   "cell_type": "code",
   "execution_count": null,
   "metadata": {},
   "outputs": [],
   "source": [
    "test_lower_50 = nested_test[nested_test['pred_lower_50'] == 1]\n",
    "test_lower_50['Q1'] = (test_lower_50['G3_binned'] == 'Q1').astype(int)\n",
    "test_lower_50['pred_Q1'] = (logit_model_2.predict(test_lower_50) > 0.5).astype(int)\n",
    "test_lower_50['pred'] = np.where(test_lower_50['pred_Q1'], 'Q1', 'Q2')"
   ]
  },
  {
   "cell_type": "code",
   "execution_count": null,
   "metadata": {},
   "outputs": [],
   "source": [
    "confusion_matrix_data(test_lower_50, test_lower_50.Q1, logit_model_2, 0.5)"
   ]
  },
  {
   "cell_type": "code",
   "execution_count": null,
   "metadata": {},
   "outputs": [],
   "source": [
    "test_upper_50 = nested_test[nested_test['pred_lower_50'] == 0]\n",
    "test_upper_50['Q4'] = (test_upper_50['G3_binned'] == 'Q4').astype(int)\n",
    "test_upper_50['pred_Q4'] = (logit_model_3.predict(test_upper_50) > 0.5).astype(int)\n",
    "test_upper_50['pred'] = np.where(test_upper_50['pred_Q4'], 'Q4', 'Q3')"
   ]
  },
  {
   "cell_type": "code",
   "execution_count": null,
   "metadata": {},
   "outputs": [],
   "source": [
    "confusion_matrix_data(test_upper_50, test_upper_50.Q4, logit_model_3, 0.5)"
   ]
  },
  {
   "cell_type": "code",
   "execution_count": null,
   "metadata": {},
   "outputs": [],
   "source": [
    "nested_test['pred'] = test_lower_50['pred']\n",
    "nested_test = nested_test.fillna({'pred': test_upper_50['pred']})\n",
    "nested_test['pred_v_actual'] = (nested_test['G3_binned'] == nested_test['pred']).astype(int)"
   ]
  },
  {
   "cell_type": "code",
   "execution_count": null,
   "metadata": {},
   "outputs": [],
   "source": [
    "nested_test['pred_v_actual'].sum() / nested_test.shape[0]"
   ]
  },
  {
   "cell_type": "markdown",
   "metadata": {},
   "source": [
    "**84% accuracy on the test data.**"
   ]
  },
  {
   "cell_type": "code",
   "execution_count": null,
   "metadata": {},
   "outputs": [],
   "source": [
    "nested_test"
   ]
  },
  {
   "cell_type": "code",
   "execution_count": null,
   "metadata": {},
   "outputs": [],
   "source": [
    "cm_nested = nested_test.groupby(['G3_binned', 'pred']).size().unstack()"
   ]
  },
  {
   "cell_type": "code",
   "execution_count": null,
   "metadata": {},
   "outputs": [],
   "source": [
    "ax = sns.heatmap(cm_nested, annot=True, cmap='Blues', fmt='g')\n",
    "ax.set(ylabel='actual', xlabel='predicted')"
   ]
  },
  {
   "cell_type": "markdown",
   "metadata": {},
   "source": [
    "### Linear model"
   ]
  },
  {
   "cell_type": "code",
   "execution_count": null,
   "metadata": {},
   "outputs": [],
   "source": [
    "lm = smf.ols('G3 ~  G1 + G2', data=train).fit()\n",
    "lm.summary()"
   ]
  },
  {
   "cell_type": "code",
   "execution_count": null,
   "metadata": {},
   "outputs": [],
   "source": [
    "pred_test = lm.predict(test)\n",
    "data = pd.concat([pred_test, y_test], axis=1)"
   ]
  },
  {
   "cell_type": "code",
   "execution_count": null,
   "metadata": {},
   "outputs": [],
   "source": [
    "sns.scatterplot(x=test.G3, y=pred_test)\n",
    "#In case of a perfect prediction, all the points must lie on the line x = y.\n",
    "sns.lineplot(x=[0, test.G3.max()], y=[0, test.G3.max()], color='orange')  #Plotting the line x = y.\n",
    "plt.xlabel('Actual grade')\n",
    "plt.ylabel('Predicted grade')"
   ]
  },
  {
   "cell_type": "markdown",
   "metadata": {},
   "source": [
    "Using the linear model, we were unable to identify the students who had a final grade of 0 from their G1 and G2, which would not be ideal if we want to identify students who might need more support."
   ]
  },
  {
   "cell_type": "markdown",
   "metadata": {},
   "source": [
    "# Model about Progress"
   ]
  },
  {
   "cell_type": "code",
   "execution_count": null,
   "metadata": {},
   "outputs": [],
   "source": [
    "train['G1_G2'] = 0\n",
    "train.loc[train.G2 > train.G1, 'G1_G2'] = 1\n",
    "train['G2_G3'] = 0\n",
    "train.loc[train.G3 > train.G2, 'G2_G3'] = 1"
   ]
  },
  {
   "cell_type": "code",
   "execution_count": null,
   "metadata": {},
   "outputs": [],
   "source": [
    "train.head()"
   ]
  },
  {
   "cell_type": "code",
   "execution_count": null,
   "metadata": {},
   "outputs": [],
   "source": [
    "pro_model = smf.logit(formula='G1_G2~absences+romantic+failures+schoolsup+alc+Fjob', data=train).fit()\n",
    "pro_model.summary()"
   ]
  },
  {
   "cell_type": "code",
   "execution_count": null,
   "metadata": {},
   "outputs": [],
   "source": [
    "confusion_matrix_data(train, train.G1_G2, pro_model, 0.3)"
   ]
  },
  {
   "cell_type": "markdown",
   "metadata": {},
   "source": [
    "The previously useful predictors do not seem to function here."
   ]
  },
  {
   "cell_type": "code",
   "execution_count": null,
   "metadata": {},
   "outputs": [],
   "source": [
    "train.G1_G2.value_counts()"
   ]
  },
  {
   "cell_type": "code",
   "execution_count": null,
   "metadata": {},
   "outputs": [],
   "source": [
    "fig = plt.figure(figsize=(20, 16))\n",
    "fig.add_subplot(2, 2, 1)\n",
    "\n",
    "sns.lineplot(x='paid', y='G1_G2', data=train, estimator=lambda Y: sum(Y == 1) / len(Y)).set_title(\n",
    "    'Extra Class vs G1 G2 Progress')\n",
    "\n",
    "fig.add_subplot(2, 2, 2)\n",
    "sns.lineplot(x='studytime', y='G1_G2', data=train, estimator=lambda Y: sum(Y == 1) / len(Y)).set_title(\n",
    "    'Study time vs G1 G2 Progress')\n",
    "\n",
    "fig.add_subplot(2, 2, 3)\n",
    "sns.lineplot(x='traveltime', y='G1_G2', data=train, estimator=lambda Y: sum(Y == 1) / len(Y)).set_title(\n",
    "    'Travel time wrt Score G1 G2 Progress')\n",
    "\n",
    "fig.add_subplot(2, 2, 4)\n",
    "sns.lineplot(x='internet', y='G1_G2', data=train, estimator=lambda Y: sum(Y == 1) / len(Y)).set_title(\n",
    "    'Internet Access vs G1 G2 Progress')"
   ]
  },
  {
   "cell_type": "code",
   "execution_count": null,
   "metadata": {},
   "outputs": [],
   "source": [
    "fig = plt.figure(figsize=(20, 12))\n",
    "fig.add_subplot(2, 2, 1)\n",
    "sns.lineplot(x='activities', y='G1_G2', data=train, estimator=lambda Y: sum(Y == 1) / len(Y)).set_title(\n",
    "    'Extra-curricular activities vs G1 G2 Progress')\n",
    "fig.add_subplot(2, 2, 2)\n",
    "sns.lineplot(x='schoolsup', y='G1_G2', data=train, estimator=lambda Y: sum(Y == 1) / len(Y)).set_title(\n",
    "    'School Support vs G1 G2 Progress')\n",
    "fig.add_subplot(2, 2, 3)\n",
    "sns.lineplot(x='famsup', y='G1_G2', data=train, estimator=lambda Y: sum(Y == 1) / len(Y)).set_title(\n",
    "    'Family Support vs G1 G2 Progress')\n",
    "fig.add_subplot(2, 2, 4)\n",
    "sns.lineplot(x='absences', y='G1_G2', data=train, estimator=lambda Y: sum(Y == 1) / len(Y)).set_title(\n",
    "    'Absences vs G1 G2 Progress')"
   ]
  },
  {
   "cell_type": "code",
   "execution_count": null,
   "metadata": {},
   "outputs": [],
   "source": [
    "fig = plt.figure(figsize=(20, 12))\n",
    "fig.add_subplot(2, 2, 1)\n",
    "sns.lineplot(x='alc', y='G1_G2', data=train, estimator=lambda Y: sum(Y == 1) / len(Y)).set_title(\n",
    "    'Alcohol vs G1 G2 Progress')\n",
    "fig.add_subplot(2, 2, 2)\n",
    "sns.lineplot(x='failures', y='G1_G2', data=train, estimator=lambda Y: sum(Y == 1) / len(Y)).set_title(\n",
    "    'Failures vs G1 G2 Progress')\n",
    "fig.add_subplot(2, 2, 3)\n",
    "sns.lineplot(x='Fjob', y='G1_G2', data=train, estimator=lambda Y: sum(Y == 1) / len(Y)).set_title(\n",
    "    'Father Job vs G1 G2 Progress')\n",
    "fig.add_subplot(2, 2, 4)\n",
    "sns.lineplot(x='romantic', y='G1_G2', data=train, estimator=lambda Y: sum(Y == 1) / len(Y)).set_title(\n",
    "    'Romantic Relationship vs G1 G2 Progress')"
   ]
  },
  {
   "cell_type": "code",
   "execution_count": null,
   "metadata": {},
   "outputs": [],
   "source": [
    "pro_model2 = smf.logit(\n",
    "    formula='G1_G2~paid+traveltime+I(traveltime**2)+alc*studytime+romantic+internet+Medu*Fedu+failures',\n",
    "    data=train).fit()\n",
    "pro_model2.summary()"
   ]
  },
  {
   "cell_type": "code",
   "execution_count": null,
   "metadata": {},
   "outputs": [],
   "source": [
    "confusion_matrix_data(train, train.G1_G2, pro_model2, 0.35)"
   ]
  },
  {
   "cell_type": "code",
   "execution_count": null,
   "metadata": {},
   "outputs": [],
   "source": [
    "from sklearn.metrics import roc_curve, auc\n",
    "\n",
    "y = train.G1_G2\n",
    "ypred = pro_model2.predict(train)\n",
    "fpr, tpr, auc_thresholds = roc_curve(y, ypred)\n",
    "\n",
    "\n",
    "def plot_roc_curve(_fpr, _tpr, label=None):\n",
    "    plt.figure(figsize=(5, 5))\n",
    "    plt.title('ROC Curve')\n",
    "    plt.plot(_fpr, _tpr, linewidth=2, label=label)\n",
    "    plt.plot([0, 1], [0, 1], 'k--')\n",
    "    plt.axis([-0.005, 1, 0, 1.005])\n",
    "    plt.xticks(np.arange(0, 1, 0.05), rotation=90)\n",
    "    plt.xlabel(\"False Positive Rate\")\n",
    "    plt.ylabel(\"True Positive Rate (Recall)\")\n",
    "\n",
    "\n",
    "fpr, tpr, auc_thresholds = roc_curve(y, ypred)\n",
    "plot_roc_curve(fpr, tpr)\n",
    "print(auc(fpr, tpr))"
   ]
  },
  {
   "cell_type": "code",
   "execution_count": null,
   "metadata": {},
   "outputs": [],
   "source": [
    "test['G1_G2'] = 0\n",
    "test.loc[test.G2 > test.G1, 'G1_G2'] = 1\n",
    "test['G2_G3'] = 0\n",
    "test.loc[test.G3 > test.G2, 'G2_G3'] = 1"
   ]
  },
  {
   "cell_type": "code",
   "execution_count": null,
   "metadata": {},
   "outputs": [],
   "source": [
    "confusion_matrix_data(test, test.G1_G2, pro_model2, 0.35)"
   ]
  },
  {
   "cell_type": "code",
   "execution_count": null,
   "metadata": {},
   "outputs": [],
   "source": [
    "fig = plt.figure(figsize=(20, 16))\n",
    "fig.add_subplot(2, 2, 1)\n",
    "\n",
    "sns.lineplot(x='paid', y='G2_G3', data=train, estimator=lambda Y: sum(Y == 1) / len(Y)).set_title(\n",
    "    'Extra Class vs G2_G3 Progress')\n",
    "\n",
    "fig.add_subplot(2, 2, 2)\n",
    "sns.lineplot(x='studytime', y='G2_G3', data=train, estimator=lambda Y: sum(Y == 1) / len(Y)).set_title(\n",
    "    'Study time vs G2_G3 Progress')\n",
    "\n",
    "fig.add_subplot(2, 2, 3)\n",
    "sns.lineplot(x='traveltime', y='G2_G3', data=train, estimator=lambda Y: sum(Y == 1) / len(Y)).set_title(\n",
    "    'Travel time wrt Score G2_G3 Progress')\n",
    "\n",
    "fig.add_subplot(2, 2, 4)\n",
    "sns.lineplot(x='internet', y='G2_G3', data=train, estimator=lambda Y: sum(Y == 1) / len(Y)).set_title(\n",
    "    'Internet Access vs G2_G3 Progress')\n"
   ]
  },
  {
   "cell_type": "code",
   "execution_count": null,
   "metadata": {},
   "outputs": [],
   "source": [
    "fig = plt.figure(figsize=(20, 12))\n",
    "fig.add_subplot(2, 2, 1)\n",
    "sns.lineplot(x='activities', y='G2_G3', data=train, estimator=lambda Y: sum(Y == 1) / len(Y)).set_title(\n",
    "    'Extra-curricular activities vs G2_G3 Progress')\n",
    "fig.add_subplot(2, 2, 2)\n",
    "sns.lineplot(x='schoolsup', y='G2_G3', data=train, estimator=lambda Y: sum(Y == 1) / len(Y)).set_title(\n",
    "    'School Support vs G2_G3 Progress')\n",
    "fig.add_subplot(2, 2, 3)\n",
    "sns.lineplot(x='famsup', y='G2_G3', data=train, estimator=lambda Y: sum(Y == 1) / len(Y)).set_title(\n",
    "    'Family Support vs G2_G3 Progress')\n",
    "fig.add_subplot(2, 2, 4)\n",
    "sns.lineplot(x='absences', y='G2_G3', data=train, estimator=lambda Y: sum(Y == 1) / len(Y)).set_title(\n",
    "    'Absences vs G2_G3 Progress')"
   ]
  },
  {
   "cell_type": "code",
   "execution_count": null,
   "metadata": {},
   "outputs": [],
   "source": [
    "fig = plt.figure(figsize=(20, 12))\n",
    "fig.add_subplot(2, 2, 1)\n",
    "sns.lineplot(x='alc', y='G2_G3', data=train, estimator=lambda Y: sum(Y == 1) / len(Y)).set_title(\n",
    "    'Alcohol vs G2_G3 Progress')\n",
    "fig.add_subplot(2, 2, 2)\n",
    "sns.lineplot(x='failures', y='G2_G3', data=train, estimator=lambda Y: sum(Y == 1) / len(Y)).set_title(\n",
    "    'Failures vs G2_G3 Progress')\n",
    "fig.add_subplot(2, 2, 3)\n",
    "sns.lineplot(x='Fjob', y='G2_G3', data=train, estimator=lambda Y: sum(Y == 1) / len(Y)).set_title(\n",
    "    'Father Job vs G2_G3 Progress')\n",
    "fig.add_subplot(2, 2, 4)\n",
    "sns.lineplot(x='Mjob', y='G2_G3', data=train, estimator=lambda Y: sum(Y == 1) / len(Y)).set_title(\n",
    "    'Romantic Relationship vs G2_G3 Progress')"
   ]
  },
  {
   "cell_type": "code",
   "execution_count": null,
   "metadata": {},
   "outputs": [],
   "source": [
    "train.head()"
   ]
  },
  {
   "cell_type": "code",
   "execution_count": null,
   "metadata": {},
   "outputs": [],
   "source": [
    "from sklearn.feature_selection import SelectKBest, chi2\n",
    "\n",
    "k_best = SelectKBest(score_func=chi2, k=10)\n",
    "k_best.fit(train, train.G2_G3)\n",
    "df_score = pd.Series(data=k_best.scores_, index=train.columns)\n",
    "df_score.sort_values(ascending=False)[1:10]\n",
    "\n",
    "# features_selected = df_score.nlargest(3).index"
   ]
  },
  {
   "cell_type": "code",
   "execution_count": null,
   "metadata": {},
   "outputs": [],
   "source": [
    "train.head()"
   ]
  },
  {
   "cell_type": "code",
   "execution_count": null,
   "metadata": {},
   "outputs": [],
   "source": [
    "pro_model4444 = smf.logit(formula='G2_G3 ~ failures * absences+ Mjob * Fjob + famrel + Medu', data=train).fit()\n",
    "pro_model4444.summary()"
   ]
  },
  {
   "cell_type": "code",
   "execution_count": null,
   "metadata": {},
   "outputs": [],
   "source": [
    "confusion_matrix_data(train, train.G2_G3, pro_model4444, 0.29)"
   ]
  },
  {
   "cell_type": "code",
   "execution_count": null,
   "metadata": {},
   "outputs": [],
   "source": [
    "pro_model3 = smf.logit(formula='G2_G3~failures*absences+I(failures**2)+Mjob*Fjob + famrel', data=train).fit()\n",
    "pro_model3.summary()"
   ]
  },
  {
   "cell_type": "code",
   "execution_count": null,
   "metadata": {},
   "outputs": [],
   "source": [
    "confusion_matrix_data(train, train.G2_G3, pro_model3, 0.3)"
   ]
  },
  {
   "cell_type": "code",
   "execution_count": null,
   "metadata": {},
   "outputs": [],
   "source": [
    "from sklearn.metrics import roc_curve, auc\n",
    "\n",
    "y = train.G2_G3\n",
    "ypred = pro_model3.predict(train)\n",
    "fpr, tpr, auc_thresholds = roc_curve(y, ypred)\n",
    "\n",
    "\n",
    "def plot_roc_curve(_fpr, _tpr, label=None):\n",
    "    plt.figure(figsize=(5, 5))\n",
    "    plt.title('ROC Curve')\n",
    "    plt.plot(_fpr, _tpr, linewidth=2, label=label)\n",
    "    plt.plot([0, 1], [0, 1], 'k--')\n",
    "    plt.axis([-0.005, 1, 0, 1.005])\n",
    "    plt.xticks(np.arange(0, 1, 0.05), rotation=90)\n",
    "    plt.xlabel(\"False Positive Rate\")\n",
    "    plt.ylabel(\"True Positive Rate (Recall)\")\n",
    "\n",
    "\n",
    "fpr, tpr, auc_thresholds = roc_curve(y, ypred)\n",
    "plot_roc_curve(fpr, tpr)\n",
    "print(auc(fpr, tpr))"
   ]
  },
  {
   "cell_type": "markdown",
   "metadata": {},
   "source": [
    "## use pro_model 3 and pro_model2"
   ]
  },
  {
   "cell_type": "code",
   "execution_count": null,
   "metadata": {},
   "outputs": [],
   "source": [
    "intervals = pro_model2.get_prediction(train)\n",
    "\n",
    "interval_table = intervals.summary_frame(alpha=0.05)\n",
    "\n",
    "interval_table"
   ]
  },
  {
   "cell_type": "code",
   "execution_count": null,
   "metadata": {},
   "outputs": [],
   "source": [
    "train['G2_improve'] = train.G2 - train.G1\n",
    "train['G2_improve'].value_counts()"
   ]
  }
 ],
 "metadata": {
  "kernelspec": {
   "display_name": "Python 3 (ipykernel)",
   "language": "python",
   "name": "python3"
  },
  "language_info": {
   "codemirror_mode": {
    "name": "ipython",
    "version": 3
   },
   "file_extension": ".py",
   "mimetype": "text/x-python",
   "name": "python",
   "nbconvert_exporter": "python",
   "pygments_lexer": "ipython3",
   "version": "3.9.13"
  },
  "vscode": {
   "interpreter": {
    "hash": "aee8b7b246df8f9039afb4144a1f6fd8d2ca17a180786b69acc140d282b71a49"
   }
  }
 },
 "nbformat": 4,
 "nbformat_minor": 1
}
