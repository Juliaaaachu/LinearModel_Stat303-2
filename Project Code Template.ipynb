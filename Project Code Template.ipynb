{
 "cells": [
  {
   "cell_type": "raw",
   "id": "33dd6c4c",
   "metadata": {},
   "source": [
    "---\n",
    "title: \"Project Code\"\n",
    "subtitle: Team Java\n",
    "author: Julia Chu, Victoria Shi, Yiru Zhang, and Yuyan Zhang\n",
    "date: 02/27/2023\n",
    "number-sections: true\n",
    "abstract: _This file contains the code for the project on <>, as part of the STAT303-2 course in Winter 2023_.\n",
    "format: \n",
    "  html:\n",
    "    toc: true\n",
    "    toc-title: Contents\n",
    "    self-contained: true\n",
    "    font-size: 100%\n",
    "    toc-depth: 4\n",
    "    mainfont: serif\n",
    "jupyter: python3\n",
    "---"
   ]
  },
  {
   "attachments": {},
   "cell_type": "markdown",
   "metadata": {
    "collapsed": false
   },
   "source": [
    "### Import relevant libraries and packages 之后所有Import都放在这里！！"
   ]
  },
  {
   "cell_type": "code",
   "execution_count": 218,
   "id": "5955618d",
   "metadata": {},
   "outputs": [],
   "source": [
    "import matplotlib.pyplot as plt\n",
    "import numpy as np\n",
    "import pandas as pd\n",
    "import seaborn as sns\n",
    "import statsmodels.formula.api as smf\n",
    "\n",
    "sns.set_theme(style='white', palette='rainbow', font_scale=1.2)\n",
    "import warnings\n",
    "\n",
    "warnings.filterwarnings('ignore')"
   ]
  },
  {
   "attachments": {},
   "cell_type": "markdown",
   "metadata": {
    "collapsed": false
   },
   "source": [
    "## Data quality check\n",
    "*By Victoria Shi (mostly) and Julia (unless otherwise indicated)*"
   ]
  },
  {
   "cell_type": "code",
   "execution_count": 219,
   "metadata": {
    "collapsed": false
   },
   "outputs": [
    {
     "data": {
      "text/plain": "  school sex  age address famsize Pstatus  Medu  Fedu     Mjob      Fjob  ...  \\\n0     GP   F   18       U     GT3       A     4     4  at_home   teacher  ...   \n1     GP   F   17       U     GT3       T     1     1  at_home     other  ...   \n2     GP   F   15       U     LE3       T     1     1  at_home     other  ...   \n3     GP   F   15       U     GT3       T     4     2   health  services  ...   \n4     GP   F   16       U     GT3       T     3     3    other     other  ...   \n\n  famrel freetime  goout  Dalc  Walc health absences  G1  G2  G3  \n0      4        3      4     1     1      3        6   5   6   6  \n1      5        3      3     1     1      3        4   5   5   6  \n2      4        3      2     2     3      3       10   7   8  10  \n3      3        2      2     1     1      5        2  15  14  15  \n4      4        3      2     1     2      5        4   6  10  10  \n\n[5 rows x 33 columns]",
      "text/html": "<div>\n<style scoped>\n    .dataframe tbody tr th:only-of-type {\n        vertical-align: middle;\n    }\n\n    .dataframe tbody tr th {\n        vertical-align: top;\n    }\n\n    .dataframe thead th {\n        text-align: right;\n    }\n</style>\n<table border=\"1\" class=\"dataframe\">\n  <thead>\n    <tr style=\"text-align: right;\">\n      <th></th>\n      <th>school</th>\n      <th>sex</th>\n      <th>age</th>\n      <th>address</th>\n      <th>famsize</th>\n      <th>Pstatus</th>\n      <th>Medu</th>\n      <th>Fedu</th>\n      <th>Mjob</th>\n      <th>Fjob</th>\n      <th>...</th>\n      <th>famrel</th>\n      <th>freetime</th>\n      <th>goout</th>\n      <th>Dalc</th>\n      <th>Walc</th>\n      <th>health</th>\n      <th>absences</th>\n      <th>G1</th>\n      <th>G2</th>\n      <th>G3</th>\n    </tr>\n  </thead>\n  <tbody>\n    <tr>\n      <th>0</th>\n      <td>GP</td>\n      <td>F</td>\n      <td>18</td>\n      <td>U</td>\n      <td>GT3</td>\n      <td>A</td>\n      <td>4</td>\n      <td>4</td>\n      <td>at_home</td>\n      <td>teacher</td>\n      <td>...</td>\n      <td>4</td>\n      <td>3</td>\n      <td>4</td>\n      <td>1</td>\n      <td>1</td>\n      <td>3</td>\n      <td>6</td>\n      <td>5</td>\n      <td>6</td>\n      <td>6</td>\n    </tr>\n    <tr>\n      <th>1</th>\n      <td>GP</td>\n      <td>F</td>\n      <td>17</td>\n      <td>U</td>\n      <td>GT3</td>\n      <td>T</td>\n      <td>1</td>\n      <td>1</td>\n      <td>at_home</td>\n      <td>other</td>\n      <td>...</td>\n      <td>5</td>\n      <td>3</td>\n      <td>3</td>\n      <td>1</td>\n      <td>1</td>\n      <td>3</td>\n      <td>4</td>\n      <td>5</td>\n      <td>5</td>\n      <td>6</td>\n    </tr>\n    <tr>\n      <th>2</th>\n      <td>GP</td>\n      <td>F</td>\n      <td>15</td>\n      <td>U</td>\n      <td>LE3</td>\n      <td>T</td>\n      <td>1</td>\n      <td>1</td>\n      <td>at_home</td>\n      <td>other</td>\n      <td>...</td>\n      <td>4</td>\n      <td>3</td>\n      <td>2</td>\n      <td>2</td>\n      <td>3</td>\n      <td>3</td>\n      <td>10</td>\n      <td>7</td>\n      <td>8</td>\n      <td>10</td>\n    </tr>\n    <tr>\n      <th>3</th>\n      <td>GP</td>\n      <td>F</td>\n      <td>15</td>\n      <td>U</td>\n      <td>GT3</td>\n      <td>T</td>\n      <td>4</td>\n      <td>2</td>\n      <td>health</td>\n      <td>services</td>\n      <td>...</td>\n      <td>3</td>\n      <td>2</td>\n      <td>2</td>\n      <td>1</td>\n      <td>1</td>\n      <td>5</td>\n      <td>2</td>\n      <td>15</td>\n      <td>14</td>\n      <td>15</td>\n    </tr>\n    <tr>\n      <th>4</th>\n      <td>GP</td>\n      <td>F</td>\n      <td>16</td>\n      <td>U</td>\n      <td>GT3</td>\n      <td>T</td>\n      <td>3</td>\n      <td>3</td>\n      <td>other</td>\n      <td>other</td>\n      <td>...</td>\n      <td>4</td>\n      <td>3</td>\n      <td>2</td>\n      <td>1</td>\n      <td>2</td>\n      <td>5</td>\n      <td>4</td>\n      <td>6</td>\n      <td>10</td>\n      <td>10</td>\n    </tr>\n  </tbody>\n</table>\n<p>5 rows × 33 columns</p>\n</div>"
     },
     "metadata": {},
     "output_type": "display_data"
    },
    {
     "name": "stdout",
     "output_type": "stream",
     "text": [
      "number of rows (Total Number of Students): 395\n",
      "number of columns: 33\n",
      "column names\n",
      "['school', 'sex', 'age', 'address', 'famsize', 'Pstatus', 'Medu', 'Fedu', 'Mjob', 'Fjob', 'reason', 'guardian', 'traveltime', 'studytime', 'failures', 'schoolsup', 'famsup', 'paid', 'activities', 'nursery', 'higher', 'internet', 'romantic', 'famrel', 'freetime', 'goout', 'Dalc', 'Walc', 'health', 'absences', 'G1', 'G2', 'G3']\n"
     ]
    }
   ],
   "source": [
    "df = pd.read_csv(\"data/student-mat.csv\")\n",
    "\n",
    "# preview of dataset\n",
    "display(df.head())\n",
    "\n",
    "# basic information about the dataset\n",
    "print(f\"number of rows (Total Number of Students): {df.shape[0]}\\nnumber of columns: {df.shape[1]}\\ncolumn names\\n{list(df.columns)}\")"
   ]
  },
  {
   "cell_type": "code",
   "execution_count": 220,
   "metadata": {
    "collapsed": false
   },
   "outputs": [
    {
     "data": {
      "text/plain": "0"
     },
     "execution_count": 220,
     "metadata": {},
     "output_type": "execute_result"
    }
   ],
   "source": [
    "# check missing data --> there are no missing values\n",
    "df.isnull().any().sum()"
   ]
  },
  {
   "cell_type": "code",
   "execution_count": 221,
   "metadata": {
    "collapsed": false
   },
   "outputs": [
    {
     "data": {
      "text/plain": "school        object\nsex           object\nage            int64\naddress       object\nfamsize       object\nPstatus       object\nMedu           int64\nFedu           int64\nMjob          object\nFjob          object\nreason        object\nguardian      object\ntraveltime     int64\nstudytime      int64\nfailures       int64\nschoolsup     object\nfamsup        object\npaid          object\nactivities    object\nnursery       object\nhigher        object\ninternet      object\nromantic      object\nfamrel         int64\nfreetime       int64\ngoout          int64\nDalc           int64\nWalc           int64\nhealth         int64\nabsences       int64\nG1             int64\nG2             int64\nG3             int64\ndtype: object"
     },
     "metadata": {},
     "output_type": "display_data"
    },
    {
     "name": "stdout",
     "output_type": "stream",
     "text": [
      "numerical columns \n",
      "['age', 'Medu', 'Fedu', 'traveltime', 'studytime', 'failures', 'famrel', 'freetime', 'goout', 'Dalc', 'Walc', 'health', 'absences', 'G1', 'G2', 'G3']\n",
      "\n",
      "categorical columns: \n",
      "['school', 'sex', 'address', 'famsize', 'Pstatus', 'Mjob', 'Fjob', 'reason', 'guardian', 'schoolsup', 'famsup', 'paid', 'activities', 'nursery', 'higher', 'internet', 'romantic']\n"
     ]
    }
   ],
   "source": [
    "# check the datatypes in the dataframe -> there are object types and the numerical (integer) type.\n",
    "display(df.dtypes)\n",
    "\n",
    "num_col = list(df.select_dtypes(include=['int64', 'float64']))\n",
    "cat_col = list(df.select_dtypes(include=['object']))\n",
    "# find the exact categorical columns and integer columns respectively\n",
    "print(f\"numerical columns \\n{num_col}\\n\")\n",
    "print(f\"categorical columns: \\n{cat_col}\")"
   ]
  },
  {
   "cell_type": "code",
   "execution_count": 222,
   "metadata": {
    "collapsed": false
   },
   "outputs": [
    {
     "data": {
      "text/plain": "     age  Medu  Fedu  traveltime  studytime  failures  famrel  freetime  \\\nmin   15     0     0           1          1         0       1         1   \nmax   22     4     4           4          4         3       5         5   \n\n     goout  Dalc  Walc  health  absences  G1  G2  G3  \nmin      1     1     1       1         0   3   0   0  \nmax      5     5     5       5        75  19  19  20  ",
      "text/html": "<div>\n<style scoped>\n    .dataframe tbody tr th:only-of-type {\n        vertical-align: middle;\n    }\n\n    .dataframe tbody tr th {\n        vertical-align: top;\n    }\n\n    .dataframe thead th {\n        text-align: right;\n    }\n</style>\n<table border=\"1\" class=\"dataframe\">\n  <thead>\n    <tr style=\"text-align: right;\">\n      <th></th>\n      <th>age</th>\n      <th>Medu</th>\n      <th>Fedu</th>\n      <th>traveltime</th>\n      <th>studytime</th>\n      <th>failures</th>\n      <th>famrel</th>\n      <th>freetime</th>\n      <th>goout</th>\n      <th>Dalc</th>\n      <th>Walc</th>\n      <th>health</th>\n      <th>absences</th>\n      <th>G1</th>\n      <th>G2</th>\n      <th>G3</th>\n    </tr>\n  </thead>\n  <tbody>\n    <tr>\n      <th>min</th>\n      <td>15</td>\n      <td>0</td>\n      <td>0</td>\n      <td>1</td>\n      <td>1</td>\n      <td>0</td>\n      <td>1</td>\n      <td>1</td>\n      <td>1</td>\n      <td>1</td>\n      <td>1</td>\n      <td>1</td>\n      <td>0</td>\n      <td>3</td>\n      <td>0</td>\n      <td>0</td>\n    </tr>\n    <tr>\n      <th>max</th>\n      <td>22</td>\n      <td>4</td>\n      <td>4</td>\n      <td>4</td>\n      <td>4</td>\n      <td>3</td>\n      <td>5</td>\n      <td>5</td>\n      <td>5</td>\n      <td>5</td>\n      <td>5</td>\n      <td>5</td>\n      <td>75</td>\n      <td>19</td>\n      <td>19</td>\n      <td>20</td>\n    </tr>\n  </tbody>\n</table>\n</div>"
     },
     "execution_count": 222,
     "metadata": {},
     "output_type": "execute_result"
    }
   ],
   "source": [
    "# summary statistics (min and max) of numerical columns -- only want a rough idea of the general range of values instead of the detailed distributions, so min and max would suffice, instead of the mean or standard deviation\n",
    "\n",
    "df.describe().loc[['min', 'max']].astype(int)"
   ]
  },
  {
   "cell_type": "code",
   "execution_count": 223,
   "id": "b34f032d",
   "metadata": {},
   "outputs": [
    {
     "data": {
      "text/plain": "               G1          G2          G3\ncount  395.000000  395.000000  395.000000\nmean    10.908861   10.713924   10.415190\nstd      3.319195    3.761505    4.581443\nmin      3.000000    0.000000    0.000000\n25%      8.000000    9.000000    8.000000\n50%     11.000000   11.000000   11.000000\n75%     13.000000   13.000000   14.000000\nmax     19.000000   19.000000   20.000000",
      "text/html": "<div>\n<style scoped>\n    .dataframe tbody tr th:only-of-type {\n        vertical-align: middle;\n    }\n\n    .dataframe tbody tr th {\n        vertical-align: top;\n    }\n\n    .dataframe thead th {\n        text-align: right;\n    }\n</style>\n<table border=\"1\" class=\"dataframe\">\n  <thead>\n    <tr style=\"text-align: right;\">\n      <th></th>\n      <th>G1</th>\n      <th>G2</th>\n      <th>G3</th>\n    </tr>\n  </thead>\n  <tbody>\n    <tr>\n      <th>count</th>\n      <td>395.000000</td>\n      <td>395.000000</td>\n      <td>395.000000</td>\n    </tr>\n    <tr>\n      <th>mean</th>\n      <td>10.908861</td>\n      <td>10.713924</td>\n      <td>10.415190</td>\n    </tr>\n    <tr>\n      <th>std</th>\n      <td>3.319195</td>\n      <td>3.761505</td>\n      <td>4.581443</td>\n    </tr>\n    <tr>\n      <th>min</th>\n      <td>3.000000</td>\n      <td>0.000000</td>\n      <td>0.000000</td>\n    </tr>\n    <tr>\n      <th>25%</th>\n      <td>8.000000</td>\n      <td>9.000000</td>\n      <td>8.000000</td>\n    </tr>\n    <tr>\n      <th>50%</th>\n      <td>11.000000</td>\n      <td>11.000000</td>\n      <td>11.000000</td>\n    </tr>\n    <tr>\n      <th>75%</th>\n      <td>13.000000</td>\n      <td>13.000000</td>\n      <td>14.000000</td>\n    </tr>\n    <tr>\n      <th>max</th>\n      <td>19.000000</td>\n      <td>19.000000</td>\n      <td>20.000000</td>\n    </tr>\n  </tbody>\n</table>\n</div>"
     },
     "execution_count": 223,
     "metadata": {},
     "output_type": "execute_result"
    }
   ],
   "source": [
    "# Period 1, 2, and Final Grade Distribution\n",
    "df[['G1','G2' ,'G3']].describe()"
   ]
  },
  {
   "cell_type": "code",
   "execution_count": 224,
   "metadata": {
    "collapsed": false
   },
   "outputs": [
    {
     "data": {
      "text/plain": "   Column Name  Number of Unique Values\n0       school                        2\n1          sex                        2\n2      address                        2\n3      famsize                        2\n4      Pstatus                        2\n5         Mjob                        5\n6         Fjob                        5\n7       reason                        4\n8     guardian                        3\n9    schoolsup                        2\n10      famsup                        2\n11        paid                        2\n12  activities                        2\n13     nursery                        2\n14      higher                        2\n15    internet                        2\n16    romantic                        2",
      "text/html": "<div>\n<style scoped>\n    .dataframe tbody tr th:only-of-type {\n        vertical-align: middle;\n    }\n\n    .dataframe tbody tr th {\n        vertical-align: top;\n    }\n\n    .dataframe thead th {\n        text-align: right;\n    }\n</style>\n<table border=\"1\" class=\"dataframe\">\n  <thead>\n    <tr style=\"text-align: right;\">\n      <th></th>\n      <th>Column Name</th>\n      <th>Number of Unique Values</th>\n    </tr>\n  </thead>\n  <tbody>\n    <tr>\n      <th>0</th>\n      <td>school</td>\n      <td>2</td>\n    </tr>\n    <tr>\n      <th>1</th>\n      <td>sex</td>\n      <td>2</td>\n    </tr>\n    <tr>\n      <th>2</th>\n      <td>address</td>\n      <td>2</td>\n    </tr>\n    <tr>\n      <th>3</th>\n      <td>famsize</td>\n      <td>2</td>\n    </tr>\n    <tr>\n      <th>4</th>\n      <td>Pstatus</td>\n      <td>2</td>\n    </tr>\n    <tr>\n      <th>5</th>\n      <td>Mjob</td>\n      <td>5</td>\n    </tr>\n    <tr>\n      <th>6</th>\n      <td>Fjob</td>\n      <td>5</td>\n    </tr>\n    <tr>\n      <th>7</th>\n      <td>reason</td>\n      <td>4</td>\n    </tr>\n    <tr>\n      <th>8</th>\n      <td>guardian</td>\n      <td>3</td>\n    </tr>\n    <tr>\n      <th>9</th>\n      <td>schoolsup</td>\n      <td>2</td>\n    </tr>\n    <tr>\n      <th>10</th>\n      <td>famsup</td>\n      <td>2</td>\n    </tr>\n    <tr>\n      <th>11</th>\n      <td>paid</td>\n      <td>2</td>\n    </tr>\n    <tr>\n      <th>12</th>\n      <td>activities</td>\n      <td>2</td>\n    </tr>\n    <tr>\n      <th>13</th>\n      <td>nursery</td>\n      <td>2</td>\n    </tr>\n    <tr>\n      <th>14</th>\n      <td>higher</td>\n      <td>2</td>\n    </tr>\n    <tr>\n      <th>15</th>\n      <td>internet</td>\n      <td>2</td>\n    </tr>\n    <tr>\n      <th>16</th>\n      <td>romantic</td>\n      <td>2</td>\n    </tr>\n  </tbody>\n</table>\n</div>"
     },
     "execution_count": 224,
     "metadata": {},
     "output_type": "execute_result"
    }
   ],
   "source": [
    "# categorical columns\n",
    "cat_columns = df.select_dtypes(include=['object']).columns\n",
    "\n",
    "columns = []\n",
    "\n",
    "# use loop comprehension to  store the column names and the number of unique values\n",
    "[columns.append([col, df[col].nunique()]) for col in cat_columns]\n",
    "\n",
    "tally_cat_cols = pd.DataFrame(columns, columns=['Column Name', 'Number of Unique Values'])\n",
    "tally_cat_cols"
   ]
  },
  {
   "cell_type": "code",
   "execution_count": 225,
   "id": "507e18ae",
   "metadata": {},
   "outputs": [
    {
     "name": "stdout",
     "output_type": "stream",
     "text": [
      "age has 2 outliers\n",
      "247    22\n",
      "392    21\n",
      "Name: age, dtype: int64\n",
      "\n",
      "traveltime has 8 outliers\n",
      "61     4\n",
      "108    4\n",
      "134    4\n",
      "149    4\n",
      "164    4\n",
      "228    4\n",
      "327    4\n",
      "375    4\n",
      "Name: traveltime, dtype: int64\n",
      "\n",
      "failures has 16 outliers\n",
      "2      3\n",
      "18     3\n",
      "78     3\n",
      "127    3\n",
      "144    3\n",
      "146    3\n",
      "149    3\n",
      "150    3\n",
      "153    3\n",
      "157    3\n",
      "164    3\n",
      "173    3\n",
      "206    3\n",
      "247    3\n",
      "350    3\n",
      "392    3\n",
      "Name: failures, dtype: int64\n",
      "\n",
      "famrel has 8 outliers\n",
      "25     1\n",
      "66     1\n",
      "108    1\n",
      "184    1\n",
      "207    1\n",
      "299    1\n",
      "357    1\n",
      "389    1\n",
      "Name: famrel, dtype: int64\n",
      "\n",
      "Dalc has 9 outliers\n",
      "29     5\n",
      "61     5\n",
      "66     5\n",
      "100    5\n",
      "223    5\n",
      "236    5\n",
      "247    5\n",
      "327    5\n",
      "349    5\n",
      "Name: Dalc, dtype: int64\n",
      "\n",
      "absences has 6 outliers\n",
      "74     54\n",
      "183    56\n",
      "276    75\n",
      "280    30\n",
      "307    38\n",
      "315    40\n",
      "Name: absences, dtype: int64\n",
      "\n"
     ]
    }
   ],
   "source": [
    "######---------------Detecting Outliers (Julia) ----------------#########\n",
    "\n",
    "def detect_outlier(_df):\n",
    "\n",
    "    for feature in _df:\n",
    "        column = _df[feature]\n",
    "        mean = np.mean(column)\n",
    "        std = np.std(column)\n",
    "        z_scores = (column - mean) / std\n",
    "        outliers = np.abs(z_scores) > 3\n",
    "\n",
    "        n_outliers = sum(outliers)\n",
    "        if n_outliers > 0:\n",
    "            print(\"{} has {} outliers\".format(column.name, n_outliers))\n",
    "            print(f\"{column[np.where(outliers)[0]].T}\\n\")\n",
    "    return None\n",
    "\n",
    "detect_outlier(df.loc[:, num_col].drop(labels=[\"G1\", \"G2\", \"G3\"], axis=1))"
   ]
  },
  {
   "cell_type": "markdown",
   "source": [
    "### Data cleaning and Preparation\n",
    "*By Victoria Shi*\n",
    "\n",
    "From the data quality check, we realized that:\n",
    "\n",
    "1. While there are no missing values or outliers, the data set consists of many categorical variables, so we would need to either encode these variables, dummify them, or convert the data type of these columns from object to numeric.\n",
    "2. For columns with a yes-no response, we implement a binary mapping of 'yes' to 1 and 'no' to 0.\n",
    "3. For categorical columns with two unique values, we converted them to 0/1 binary variables, as the choice of 0/1 would not change the result.\n",
    "4. For columns of categorical variables with more than 2 unique values, we could not map them to numerical values (i.e., mapping distinct values to different integer values) as it would introduce bias due to assuming one value is superior to the other. So instead, we convert them to dummy variables as new predictors.\n",
    "5. While  correlation among predictors is not a major issue, there are still a few columns that have relatively strong correlations: mother education and father education (Medu and Fedu), and grades for period 1, 2, and 3(G1, G2 and G3).\n",
    "\n",
    "The code below implements the above transformation."
   ],
   "metadata": {
    "collapsed": false
   }
  },
  {
   "cell_type": "code",
   "execution_count": 226,
   "outputs": [],
   "source": [
    "######---------------Converting yes-no variables to binary variables----------------#########\n",
    "# Create a dictionary for binary mapping\n",
    "binary_mapping = {'yes': 1, 'no': 0}\n",
    "\n",
    "# Find all columns in the data frame that have 'yes' or 'no' as the response\n",
    "yes_no_columns = [col for col in df.columns if df[col].isin(['yes', 'no']).any()]\n",
    "\n",
    "# Apply binary mapping to all columns found in the previous step using a lambda function and pandas' apply method\n",
    "df[yes_no_columns] = df[yes_no_columns].apply(lambda x: x.map(binary_mapping))"
   ],
   "metadata": {
    "collapsed": false
   }
  },
  {
   "cell_type": "code",
   "execution_count": 227,
   "outputs": [],
   "source": [
    "######---------------Manual Feature Selection (this is by Julia)----------------#########\n",
    "\n",
    "#We are not making distinction among schools. Therefore the variable school will be dropped out.\n",
    "df[\"school\"].value_counts()\n",
    "df = df.drop(labels='school', axis=1)"
   ],
   "metadata": {
    "collapsed": false
   }
  },
  {
   "cell_type": "code",
   "execution_count": 228,
   "outputs": [],
   "source": [
    "######---------------Transforming predictors with 2 unique values----------------#########\n",
    "\n",
    "# map categorical variables in data to 0 or 1 if the column has two unique values\n",
    "#  map the values in the 'school' column to 0 or 1\n",
    "\n",
    "# map the values in the 'sex' column to 0 or 1\n",
    "df['sex'] = df['sex'].map({'F': 0, 'M': 1})\n",
    "\n",
    "# map the values in the 'famsize' column to 0 or 1\n",
    "# binary: 'LE3' - less or equal to 3 or 'GT3' - greater than 3\n",
    "df['famsize'] = df['famsize'].map({'LE3': 0, 'GT3': 1})\n",
    "\n",
    "# map the values in the 'address' column to 0 or 1\n",
    "# binary: 'U' - urban or 'R' - rural\n",
    "df['address'] = df['address'].map({'R': 0, 'U': 1})\n",
    "\n",
    "# map the values in the 'Pstatus' column to 0 or 1\n",
    "# parent's cohabitation status (binary: 'T' - living together or 'A' - apart)\n",
    "df['Pstatus'] = df['Pstatus'].map({'A': 0, 'T': 1})"
   ],
   "metadata": {
    "collapsed": false
   }
  },
  {
   "cell_type": "code",
   "execution_count": 229,
   "outputs": [],
   "source": [
    "######---------------Creating new predictors----------------#########\n",
    "# Create dummy variables for the 'col' column\n",
    "target_cols = ['Mjob', 'Fjob', 'reason', 'guardian']\n",
    "dummies = pd.get_dummies(df.loc[:, target_cols], prefix=['Mjob', 'Fjob', 'reason', 'guardian'])\n",
    "\n",
    "df.drop(columns=target_cols, inplace=True)\n",
    "\n",
    "# # Concatenate the original data frame with the dummy variables\n",
    "df = pd.concat([df, dummies], axis=1)\n",
    "\n",
    "# combine Dalc and Walc into alc\n",
    "df.loc[:, 'Alc'] = df['Dalc'] + df['Walc']\n",
    "# drop Dalc and Walc\n",
    "df = df.drop(columns=['Dalc', 'Walc'])\n",
    "# combine Fedu and Medu into famEdu\n",
    "famEdu = df['Fedu'] + df['Fedu']\n",
    "df = df.drop(columns=['Fedu', 'Fedu'])"
   ],
   "metadata": {
    "collapsed": false
   }
  },
  {
   "cell_type": "code",
   "execution_count": 230,
   "outputs": [
    {
     "data": {
      "text/plain": "   sex  age  address  famsize  Pstatus  Medu  traveltime  studytime  failures  \\\n0    0   18        1        1        0     4           2          2         0   \n1    0   17        1        1        1     1           1          2         0   \n2    0   15        1        0        1     1           1          2         3   \n3    0   15        1        1        1     4           1          3         0   \n4    0   16        1        1        1     3           1          2         0   \n\n   schoolsup  ...  Fjob_services  Fjob_teacher  reason_course  reason_home  \\\n0          1  ...              0             1              1            0   \n1          0  ...              0             0              1            0   \n2          1  ...              0             0              0            0   \n3          0  ...              1             0              0            1   \n4          0  ...              0             0              0            1   \n\n   reason_other  reason_reputation  guardian_father  guardian_mother  \\\n0             0                  0                0                1   \n1             0                  0                1                0   \n2             1                  0                0                1   \n3             0                  0                0                1   \n4             0                  0                1                0   \n\n   guardian_other  Alc  \n0               0    2  \n1               0    2  \n2               0    5  \n3               0    2  \n4               0    3  \n\n[5 rows x 43 columns]",
      "text/html": "<div>\n<style scoped>\n    .dataframe tbody tr th:only-of-type {\n        vertical-align: middle;\n    }\n\n    .dataframe tbody tr th {\n        vertical-align: top;\n    }\n\n    .dataframe thead th {\n        text-align: right;\n    }\n</style>\n<table border=\"1\" class=\"dataframe\">\n  <thead>\n    <tr style=\"text-align: right;\">\n      <th></th>\n      <th>sex</th>\n      <th>age</th>\n      <th>address</th>\n      <th>famsize</th>\n      <th>Pstatus</th>\n      <th>Medu</th>\n      <th>traveltime</th>\n      <th>studytime</th>\n      <th>failures</th>\n      <th>schoolsup</th>\n      <th>...</th>\n      <th>Fjob_services</th>\n      <th>Fjob_teacher</th>\n      <th>reason_course</th>\n      <th>reason_home</th>\n      <th>reason_other</th>\n      <th>reason_reputation</th>\n      <th>guardian_father</th>\n      <th>guardian_mother</th>\n      <th>guardian_other</th>\n      <th>Alc</th>\n    </tr>\n  </thead>\n  <tbody>\n    <tr>\n      <th>0</th>\n      <td>0</td>\n      <td>18</td>\n      <td>1</td>\n      <td>1</td>\n      <td>0</td>\n      <td>4</td>\n      <td>2</td>\n      <td>2</td>\n      <td>0</td>\n      <td>1</td>\n      <td>...</td>\n      <td>0</td>\n      <td>1</td>\n      <td>1</td>\n      <td>0</td>\n      <td>0</td>\n      <td>0</td>\n      <td>0</td>\n      <td>1</td>\n      <td>0</td>\n      <td>2</td>\n    </tr>\n    <tr>\n      <th>1</th>\n      <td>0</td>\n      <td>17</td>\n      <td>1</td>\n      <td>1</td>\n      <td>1</td>\n      <td>1</td>\n      <td>1</td>\n      <td>2</td>\n      <td>0</td>\n      <td>0</td>\n      <td>...</td>\n      <td>0</td>\n      <td>0</td>\n      <td>1</td>\n      <td>0</td>\n      <td>0</td>\n      <td>0</td>\n      <td>1</td>\n      <td>0</td>\n      <td>0</td>\n      <td>2</td>\n    </tr>\n    <tr>\n      <th>2</th>\n      <td>0</td>\n      <td>15</td>\n      <td>1</td>\n      <td>0</td>\n      <td>1</td>\n      <td>1</td>\n      <td>1</td>\n      <td>2</td>\n      <td>3</td>\n      <td>1</td>\n      <td>...</td>\n      <td>0</td>\n      <td>0</td>\n      <td>0</td>\n      <td>0</td>\n      <td>1</td>\n      <td>0</td>\n      <td>0</td>\n      <td>1</td>\n      <td>0</td>\n      <td>5</td>\n    </tr>\n    <tr>\n      <th>3</th>\n      <td>0</td>\n      <td>15</td>\n      <td>1</td>\n      <td>1</td>\n      <td>1</td>\n      <td>4</td>\n      <td>1</td>\n      <td>3</td>\n      <td>0</td>\n      <td>0</td>\n      <td>...</td>\n      <td>1</td>\n      <td>0</td>\n      <td>0</td>\n      <td>1</td>\n      <td>0</td>\n      <td>0</td>\n      <td>0</td>\n      <td>1</td>\n      <td>0</td>\n      <td>2</td>\n    </tr>\n    <tr>\n      <th>4</th>\n      <td>0</td>\n      <td>16</td>\n      <td>1</td>\n      <td>1</td>\n      <td>1</td>\n      <td>3</td>\n      <td>1</td>\n      <td>2</td>\n      <td>0</td>\n      <td>0</td>\n      <td>...</td>\n      <td>0</td>\n      <td>0</td>\n      <td>0</td>\n      <td>1</td>\n      <td>0</td>\n      <td>0</td>\n      <td>1</td>\n      <td>0</td>\n      <td>0</td>\n      <td>3</td>\n    </tr>\n  </tbody>\n</table>\n<p>5 rows × 43 columns</p>\n</div>"
     },
     "metadata": {},
     "output_type": "display_data"
    },
    {
     "name": "stdout",
     "output_type": "stream",
     "text": [
      "After cleaning and preparation, the dataset has 395 rows and 43 columns.\n",
      "New columns:\n",
      " ['sex', 'age', 'address', 'famsize', 'Pstatus', 'Medu', 'traveltime', 'studytime', 'failures', 'schoolsup', 'famsup', 'paid', 'activities', 'nursery', 'higher', 'internet', 'romantic', 'famrel', 'freetime', 'goout', 'health', 'absences', 'G1', 'G2', 'G3', 'Mjob_at_home', 'Mjob_health', 'Mjob_other', 'Mjob_services', 'Mjob_teacher', 'Fjob_at_home', 'Fjob_health', 'Fjob_other', 'Fjob_services', 'Fjob_teacher', 'reason_course', 'reason_home', 'reason_other', 'reason_reputation', 'guardian_father', 'guardian_mother', 'guardian_other', 'Alc']\n",
      "All columns are of uint8 or integer data types.\n"
     ]
    }
   ],
   "source": [
    "df_all_num2 = df.copy()\n",
    "df_model_dev = df.copy()\n",
    "\n",
    "# preview of dataset for training\n",
    "display(df.head())\n",
    "# display(df.dtypes)\n",
    "print(\n",
    "    f\"After cleaning and preparation, the dataset has {df.shape[0]} rows and {df.shape[1]} columns.\\nNew columns:\\n {list(df.columns)}\\nAll columns are of uint8 or integer data types.\")"
   ],
   "metadata": {
    "collapsed": false
   }
  },
  {
   "cell_type": "markdown",
   "id": "fbb11c9b",
   "metadata": {},
   "source": [
    "## Exploratory data analysis"
   ]
  },
  {
   "attachments": {},
   "cell_type": "markdown",
   "id": "2a9bb2a1",
   "metadata": {},
   "source": [
    "### Part 1\n",
    "*Julia Chu*"
   ]
  },
  {
   "attachments": {},
   "cell_type": "markdown",
   "id": "76d96b71",
   "metadata": {},
   "source": [
    "We obtained the following insights after part 1 of data exploration:\n",
    "\n",
    "- Motivation to take higher education may play a role in the final grade.\n",
    "- There is a slight difference in grade distribution between genders, but it is not prominent. Statistical significance for gender as a predictor cannot be determined from the graph alone.\n",
    "- The data points are inconsistent, with only three observations for age 20. There appears to be no clear relationship between age, gender, or their interaction, and the final grade.\n",
    "- There is not much difference in scores based on geography (rural or urban).\n",
    "- There may be a high correlation between absences and grades, with grades decreasing as absences increase. The absences are not due to a health condition."
   ]
  },
  {
   "cell_type": "code",
   "execution_count": 231,
   "id": "2e61d74d",
   "metadata": {},
   "outputs": [
    {
     "data": {
      "text/plain": "          sex        age   address  famsize   Pstatus   Medu  traveltime  \\\nhigher                                                                     \n0       0.800  17.850000  0.700000    0.700  0.950000  1.950    1.700000   \n1       0.456  16.634667  0.781333    0.712  0.893333  2.792    1.434667   \n\n        studytime  failures  schoolsup  ...  Fjob_services  Fjob_teacher  \\\nhigher                                  ...                                \n0        1.400000  1.300000   0.050000  ...          0.450      0.050000   \n1        2.069333  0.282667   0.133333  ...          0.272      0.074667   \n\n        reason_course  reason_home  reason_other  reason_reputation  \\\nhigher                                                                \n0                0.50     0.150000      0.250000           0.100000   \n1                0.36     0.282667      0.082667           0.274667   \n\n        guardian_father  guardian_mother  guardian_other    Alc  \nhigher                                                           \n0              0.200000         0.700000            0.10  4.600  \n1              0.229333         0.690667            0.08  3.728  \n\n[2 rows x 42 columns]",
      "text/html": "<div>\n<style scoped>\n    .dataframe tbody tr th:only-of-type {\n        vertical-align: middle;\n    }\n\n    .dataframe tbody tr th {\n        vertical-align: top;\n    }\n\n    .dataframe thead th {\n        text-align: right;\n    }\n</style>\n<table border=\"1\" class=\"dataframe\">\n  <thead>\n    <tr style=\"text-align: right;\">\n      <th></th>\n      <th>sex</th>\n      <th>age</th>\n      <th>address</th>\n      <th>famsize</th>\n      <th>Pstatus</th>\n      <th>Medu</th>\n      <th>traveltime</th>\n      <th>studytime</th>\n      <th>failures</th>\n      <th>schoolsup</th>\n      <th>...</th>\n      <th>Fjob_services</th>\n      <th>Fjob_teacher</th>\n      <th>reason_course</th>\n      <th>reason_home</th>\n      <th>reason_other</th>\n      <th>reason_reputation</th>\n      <th>guardian_father</th>\n      <th>guardian_mother</th>\n      <th>guardian_other</th>\n      <th>Alc</th>\n    </tr>\n    <tr>\n      <th>higher</th>\n      <th></th>\n      <th></th>\n      <th></th>\n      <th></th>\n      <th></th>\n      <th></th>\n      <th></th>\n      <th></th>\n      <th></th>\n      <th></th>\n      <th></th>\n      <th></th>\n      <th></th>\n      <th></th>\n      <th></th>\n      <th></th>\n      <th></th>\n      <th></th>\n      <th></th>\n      <th></th>\n      <th></th>\n    </tr>\n  </thead>\n  <tbody>\n    <tr>\n      <th>0</th>\n      <td>0.800</td>\n      <td>17.850000</td>\n      <td>0.700000</td>\n      <td>0.700</td>\n      <td>0.950000</td>\n      <td>1.950</td>\n      <td>1.700000</td>\n      <td>1.400000</td>\n      <td>1.300000</td>\n      <td>0.050000</td>\n      <td>...</td>\n      <td>0.450</td>\n      <td>0.050000</td>\n      <td>0.50</td>\n      <td>0.150000</td>\n      <td>0.250000</td>\n      <td>0.100000</td>\n      <td>0.200000</td>\n      <td>0.700000</td>\n      <td>0.10</td>\n      <td>4.600</td>\n    </tr>\n    <tr>\n      <th>1</th>\n      <td>0.456</td>\n      <td>16.634667</td>\n      <td>0.781333</td>\n      <td>0.712</td>\n      <td>0.893333</td>\n      <td>2.792</td>\n      <td>1.434667</td>\n      <td>2.069333</td>\n      <td>0.282667</td>\n      <td>0.133333</td>\n      <td>...</td>\n      <td>0.272</td>\n      <td>0.074667</td>\n      <td>0.36</td>\n      <td>0.282667</td>\n      <td>0.082667</td>\n      <td>0.274667</td>\n      <td>0.229333</td>\n      <td>0.690667</td>\n      <td>0.08</td>\n      <td>3.728</td>\n    </tr>\n  </tbody>\n</table>\n<p>2 rows × 42 columns</p>\n</div>"
     },
     "execution_count": 231,
     "metadata": {},
     "output_type": "execute_result"
    }
   ],
   "source": [
    "# Data groupBy()... grouping The Data For higher (if they are willing to take higher education)\n",
    "df.groupby('higher').mean()"
   ]
  },
  {
   "cell_type": "code",
   "execution_count": 232,
   "id": "633a7dc8",
   "metadata": {},
   "outputs": [
    {
     "name": "stdout",
     "output_type": "stream",
     "text": [
      "Number of male students: 0\n",
      "Number of female students: 0\n"
     ]
    },
    {
     "data": {
      "text/plain": "Text(0, 0.5, 'Count')"
     },
     "execution_count": 232,
     "metadata": {},
     "output_type": "execute_result"
    },
    {
     "data": {
      "text/plain": "<Figure size 640x480 with 1 Axes>",
      "image/png": "[encoded data removed]"
     },
     "metadata": {},
     "output_type": "display_data"
    }
   ],
   "source": [
    "### Age & Gender Distribution and its effect on grade outcome\n",
    "### Marking Final Grade as Categorical Value & Viewing their Count\n",
    "male_studs = len(df[df['sex'] == 'M'])\n",
    "female_studs = len(df[df['sex'] == 'F'])\n",
    "print('Number of male students:',male_studs)\n",
    "print('Number of female students:',female_studs)\n",
    "\n",
    "sns.countplot(data=df, x='age', hue='sex').set_title('Number of students in different age groups', fontsize=12)\n",
    "plt.xlabel(\"Age\", fontsize=8)\n",
    "plt.ylabel(\"Count\", fontsize=8)"
   ]
  },
  {
   "cell_type": "code",
   "execution_count": 233,
   "id": "3e817f1c",
   "metadata": {},
   "outputs": [
    {
     "data": {
      "text/plain": "<Figure size 1200x400 with 3 Axes>",
      "image/png": "[encoded data removed]"
     },
     "metadata": {},
     "output_type": "display_data"
    },
    {
     "data": {
      "text/plain": "Text(0.5, 1.0, 'Number of students in different age groups')"
     },
     "execution_count": 233,
     "metadata": {},
     "output_type": "execute_result"
    }
   ],
   "source": [
    "#Whether there's a gender difference in grade distribution in G1 G2 AND G3\n",
    "fig, axes = plt.subplots(1, 3, figsize=(12, 4))\n",
    "ax1 = sns.boxplot(data=df, x='sex', y='G1', ax=axes[0])\n",
    "ax1.set_title('G1')\n",
    "ax2 = sns.boxplot(data=df, x='sex', y='G2', ax=axes[1])\n",
    "ax2.set_title('G2')\n",
    "ax3 = sns.boxplot(data=df, x='sex', y='G3', ax=axes[2])\n",
    "ax3.set_title('G3')\n",
    "plt.show()\n",
    "age_pl.axes.set_title('Number of students in different age groups', fontsize=12)"
   ]
  },
  {
   "cell_type": "code",
   "execution_count": 234,
   "id": "fd192614",
   "metadata": {},
   "outputs": [
    {
     "ename": "KeyError",
     "evalue": "'Column not found: finalGrade'",
     "output_type": "error",
     "traceback": [
      "\u001B[0;31m---------------------------------------------------------------------------\u001B[0m",
      "\u001B[0;31mKeyError\u001B[0m                                  Traceback (most recent call last)",
      "Cell \u001B[0;32mIn[234], line 3\u001B[0m\n\u001B[1;32m      1\u001B[0m \u001B[38;5;66;03m# Whether there's a gender difference in grade distribution in G1 G2 AND G3\u001B[39;00m\n\u001B[1;32m      2\u001B[0m fig, axes \u001B[38;5;241m=\u001B[39m plt\u001B[38;5;241m.\u001B[39msubplots(\u001B[38;5;241m2\u001B[39m, \u001B[38;5;241m1\u001B[39m, figsize\u001B[38;5;241m=\u001B[39m(\u001B[38;5;241m10\u001B[39m, \u001B[38;5;241m6\u001B[39m))\n\u001B[0;32m----> 3\u001B[0m age_data \u001B[38;5;241m=\u001B[39m \u001B[43mdf\u001B[49m\u001B[38;5;241;43m.\u001B[39;49m\u001B[43mgroupby\u001B[49m\u001B[43m(\u001B[49m\u001B[38;5;124;43m'\u001B[39;49m\u001B[38;5;124;43mage\u001B[39;49m\u001B[38;5;124;43m'\u001B[39;49m\u001B[43m)\u001B[49m\u001B[43m[\u001B[49m\u001B[38;5;124;43m'\u001B[39;49m\u001B[38;5;124;43mfinalGrade\u001B[39;49m\u001B[38;5;124;43m'\u001B[39;49m\u001B[43m]\u001B[49m\u001B[38;5;241m.\u001B[39magg([(\u001B[38;5;124m'\u001B[39m\u001B[38;5;124mpass_rate\u001B[39m\u001B[38;5;124m'\u001B[39m, \u001B[38;5;124m'\u001B[39m\u001B[38;5;124mmean\u001B[39m\u001B[38;5;124m'\u001B[39m), (\u001B[38;5;124m'\u001B[39m\u001B[38;5;124mnobs\u001B[39m\u001B[38;5;124m'\u001B[39m, \u001B[38;5;124m'\u001B[39m\u001B[38;5;124mcount\u001B[39m\u001B[38;5;124m'\u001B[39m)])\u001B[38;5;241m.\u001B[39mreset_index(drop\u001B[38;5;241m=\u001B[39m\u001B[38;5;28;01mFalse\u001B[39;00m)\n\u001B[1;32m      4\u001B[0m age_pass \u001B[38;5;241m=\u001B[39m sns\u001B[38;5;241m.\u001B[39mlineplot(x\u001B[38;5;241m=\u001B[39mage_data\u001B[38;5;241m.\u001B[39mage, y\u001B[38;5;241m=\u001B[39mage_data[\u001B[38;5;124m'\u001B[39m\u001B[38;5;124mpass_rate\u001B[39m\u001B[38;5;124m'\u001B[39m], ax\u001B[38;5;241m=\u001B[39maxes[\u001B[38;5;241m0\u001B[39m])\n\u001B[1;32m      6\u001B[0m fig\u001B[38;5;241m.\u001B[39msubplots_adjust(hspace\u001B[38;5;241m=\u001B[39m\u001B[38;5;241m0.5\u001B[39m, wspace\u001B[38;5;241m=\u001B[39m\u001B[38;5;241m0.125\u001B[39m)\n",
      "File \u001B[0;32m/opt/miniconda3/envs/stat303_dataSci/lib/python3.10/site-packages/pandas/core/groupby/generic.py:1415\u001B[0m, in \u001B[0;36mDataFrameGroupBy.__getitem__\u001B[0;34m(self, key)\u001B[0m\n\u001B[1;32m   1406\u001B[0m \u001B[38;5;28;01mif\u001B[39;00m \u001B[38;5;28misinstance\u001B[39m(key, \u001B[38;5;28mtuple\u001B[39m) \u001B[38;5;129;01mand\u001B[39;00m \u001B[38;5;28mlen\u001B[39m(key) \u001B[38;5;241m>\u001B[39m \u001B[38;5;241m1\u001B[39m:\n\u001B[1;32m   1407\u001B[0m     \u001B[38;5;66;03m# if len == 1, then it becomes a SeriesGroupBy and this is actually\u001B[39;00m\n\u001B[1;32m   1408\u001B[0m     \u001B[38;5;66;03m# valid syntax, so don't raise warning\u001B[39;00m\n\u001B[1;32m   1409\u001B[0m     warnings\u001B[38;5;241m.\u001B[39mwarn(\n\u001B[1;32m   1410\u001B[0m         \u001B[38;5;124m\"\u001B[39m\u001B[38;5;124mIndexing with multiple keys (implicitly converted to a tuple \u001B[39m\u001B[38;5;124m\"\u001B[39m\n\u001B[1;32m   1411\u001B[0m         \u001B[38;5;124m\"\u001B[39m\u001B[38;5;124mof keys) will be deprecated, use a list instead.\u001B[39m\u001B[38;5;124m\"\u001B[39m,\n\u001B[1;32m   1412\u001B[0m         \u001B[38;5;167;01mFutureWarning\u001B[39;00m,\n\u001B[1;32m   1413\u001B[0m         stacklevel\u001B[38;5;241m=\u001B[39mfind_stack_level(),\n\u001B[1;32m   1414\u001B[0m     )\n\u001B[0;32m-> 1415\u001B[0m \u001B[38;5;28;01mreturn\u001B[39;00m \u001B[38;5;28;43msuper\u001B[39;49m\u001B[43m(\u001B[49m\u001B[43m)\u001B[49m\u001B[38;5;241;43m.\u001B[39;49m\u001B[38;5;21;43m__getitem__\u001B[39;49m\u001B[43m(\u001B[49m\u001B[43mkey\u001B[49m\u001B[43m)\u001B[49m\n",
      "File \u001B[0;32m/opt/miniconda3/envs/stat303_dataSci/lib/python3.10/site-packages/pandas/core/base.py:248\u001B[0m, in \u001B[0;36mSelectionMixin.__getitem__\u001B[0;34m(self, key)\u001B[0m\n\u001B[1;32m    246\u001B[0m \u001B[38;5;28;01melse\u001B[39;00m:\n\u001B[1;32m    247\u001B[0m     \u001B[38;5;28;01mif\u001B[39;00m key \u001B[38;5;129;01mnot\u001B[39;00m \u001B[38;5;129;01min\u001B[39;00m \u001B[38;5;28mself\u001B[39m\u001B[38;5;241m.\u001B[39mobj:\n\u001B[0;32m--> 248\u001B[0m         \u001B[38;5;28;01mraise\u001B[39;00m \u001B[38;5;167;01mKeyError\u001B[39;00m(\u001B[38;5;124mf\u001B[39m\u001B[38;5;124m\"\u001B[39m\u001B[38;5;124mColumn not found: \u001B[39m\u001B[38;5;132;01m{\u001B[39;00mkey\u001B[38;5;132;01m}\u001B[39;00m\u001B[38;5;124m\"\u001B[39m)\n\u001B[1;32m    249\u001B[0m     subset \u001B[38;5;241m=\u001B[39m \u001B[38;5;28mself\u001B[39m\u001B[38;5;241m.\u001B[39mobj[key]\n\u001B[1;32m    250\u001B[0m     ndim \u001B[38;5;241m=\u001B[39m subset\u001B[38;5;241m.\u001B[39mndim\n",
      "\u001B[0;31mKeyError\u001B[0m: 'Column not found: finalGrade'"
     ]
    },
    {
     "data": {
      "text/plain": "<Figure size 1000x600 with 2 Axes>",
      "image/png": "[encoded data removed]"
     },
     "metadata": {},
     "output_type": "display_data"
    }
   ],
   "source": [
    "# Whether there's a gender difference in grade distribution in G1 G2 AND G3\n",
    "fig, axes = plt.subplots(2, 1, figsize=(10, 6))\n",
    "age_data = df.groupby('age')['finalGrade'].agg([('pass_rate', 'mean'), ('nobs', 'count')]).reset_index(drop=False)\n",
    "age_pass = sns.lineplot(x=age_data.age, y=age_data['pass_rate'], ax=axes[0])\n",
    "\n",
    "fig.subplots_adjust(hspace=0.5, wspace=0.125)\n",
    "b = sns.swarmplot(x='age', y='G3',hue='sex', data=df, ax=axes[1])\n",
    "b.axes.set_title('Does age affect final grade?', fontsize = 14)\n",
    "b.set_xlabel('Age')\n",
    "b.set_ylabel('Final Grade')\n",
    "plt.show()"
   ]
  },
  {
   "cell_type": "code",
   "execution_count": null,
   "id": "76e90d3a",
   "metadata": {},
   "outputs": [],
   "source": [
    "g = sns.catplot(data=df, x=\"sex\", y=\"finalGrade\", col=\"age\",kind=\"bar\", height=4, aspect=.6,ax=axes[0])\n",
    "g.set_axis_labels(\"\", \"pass Rate\")\n",
    "g.set_xticklabels([\"Male\", \"Female\"])\n",
    "g.set_titles(\"{col_name} {col_var}\")\n",
    "g.set(ylim=(0, 1))\n",
    "g.despine(left=True)"
   ]
  },
  {
   "cell_type": "code",
   "execution_count": null,
   "id": "6a95ccac",
   "metadata": {},
   "outputs": [],
   "source": [
    "fig, axes = plt.subplots(2, 1, figsize=(10, 6))\n",
    "\n",
    "#Whether geography affects grade outcome \n",
    "add_plt = sns.countplot(data=df, x='address', hue=\"finalGrade\", ax=axes[0])\n",
    "add_plt.axes.set_title('Urban and Rural students', fontsize=12)\n",
    "add_plt.set_xlabel('Address', fontsize=12)\n",
    "add_plt.set_ylabel('Count', fontsize=12)\n",
    "\n",
    "fig.subplots_adjust(hspace=0.5, wspace=0.125)\n",
    "\n",
    "# Grade distribution by address\n",
    "sns.kdeplot(df.loc[df['address'] == 1, 'G3'], label='Urban', shade = True, ax=axes[1])\n",
    "sns.kdeplot(df.loc[df['address'] == 0, 'G3'], label='Rural', shade = True, ax=axes[1])\n",
    "plt.title('Urban VS Rural Grade Score', fontsize = 12)\n",
    "plt.xlabel('Grade', fontsize = 20)\n",
    "plt.ylabel('Density', fontsize = 20)\n",
    "plt.show()"
   ]
  },
  {
   "attachments": {},
   "cell_type": "markdown",
   "metadata": {
    "collapsed": false
   },
   "source": [
    "### Part 2\n",
    "*Victoria Shi*"
   ]
  },
  {
   "cell_type": "code",
   "execution_count": null,
   "metadata": {
    "collapsed": false
   },
   "outputs": [],
   "source": [
    "data = pd.read_csv(\"data/student-mat.csv\")\n",
    "# Create a new column 'G3_binary' in the data frame\n",
    "# Assign 0 to all rows where G3 is less than 12\n",
    "data.loc[data.G3 < 12, 'G3_binary'] = 0\n",
    "\n",
    "# Assign 1 to all rows where G3 is greater than or equal to 12\n",
    "data.loc[data.G3 >= 12, 'G3_binary'] = 1\n",
    "\n",
    "fig = plt.figure(figsize=(12, 4))\n",
    "# Plot a count plot of the 'G3' column and set the title\n",
    "fig.add_subplot(1, 2, 1)\n",
    "sns.countplot(x='G3', data=data, order=data['G3'].value_counts().index).set_title(\"Grade Distribution\")\n",
    "\n",
    "# Plot a count plot of the 'G3_binary' column and set the title\n",
    "fig.add_subplot(1, 2, 2)\n",
    "sns.countplot(x=data.G3_binary, order=data.G3_binary.value_counts().index).set_title(\"Grade (Binary) Distribution\")"
   ]
  },
  {
   "cell_type": "code",
   "execution_count": null,
   "metadata": {
    "collapsed": false
   },
   "outputs": [],
   "source": [
    "plt.figure(figsize=(20, 12))\n",
    "# plot the correlation among variables that are ORIGINALLy numerical\n",
    "sns.heatmap(data.corr(), cmap = 'twilight', annot=True).set_title(\"Pairwise correlation among (innately) numerical columns\")"
   ]
  },
  {
   "cell_type": "code",
   "execution_count": null,
   "metadata": {
    "collapsed": false
   },
   "outputs": [],
   "source": [
    "fig = plt.figure(figsize=(12, 4))\n",
    "fig.add_subplot(1, 2, 1)\n",
    "sns.lineplot(x='G1', y='G3', err_kws={'fc': 'pink'}, data=data).set_title('G1 versus G3')\n",
    "fig.add_subplot(1, 2, 2)\n",
    "sns.lineplot(x='G2', y='G3', err_kws={'fc': 'pink'}, data=data).set_title('G2 versus G3')\n",
    "plt.show()\n",
    "\n",
    "fig = plt.figure(figsize=(12, 6))\n",
    "sns.scatterplot(x='G1', y='G2',hue='G3', palette='rainbow', data=data).set_title('G1, G2, and G3')\n",
    "plt.hlines(12, 0, 20, color=\"magenta\", linestyle=\"--\")\n",
    "plt.vlines(12, 0, 20, color=\"magenta\", linestyle=\"--\", label=\"Pass/Fail Boundary\")\n",
    "plt.legend(loc=\"lower right\")\n",
    "plt.show()"
   ]
  },
  {
   "cell_type": "code",
   "execution_count": null,
   "metadata": {
    "collapsed": false
   },
   "outputs": [],
   "source": [
    "# Since G1, G2, and G3 are highly correlated, we remove G2 and G3\n",
    "data = data.drop(columns=[\"G1\", \"G2\"])"
   ]
  },
  {
   "cell_type": "markdown",
   "metadata": {
    "collapsed": false
   },
   "source": [
    "`G1` and `G2` are strongly correlated themselves and are strongly correlated with `G3`. SO we remove G1 and G2.\n",
    "`Medu` and `Fedu` are strongly correlated. `Dalc` and `Walc` are strongly correlated."
   ]
  },
  {
   "cell_type": "code",
   "execution_count": null,
   "metadata": {
    "collapsed": false
   },
   "outputs": [],
   "source": [
    "# combine father education and mother education into family education\n",
    "data['famEdu'] = data['Fedu'] + data['Medu']\n",
    "# combine day alc and week into alcohol\n",
    "data['Alc'] = data['Walc'] + data['Dalc']\n",
    "\n",
    "data = data.drop(columns=[\"Fedu\", 'Medu', 'Walc', 'Dalc', 'G3_binary'])"
   ]
  },
  {
   "cell_type": "code",
   "execution_count": null,
   "metadata": {
    "collapsed": false
   },
   "outputs": [],
   "source": [
    "fig = plt.figure(figsize=(12, 6))\n",
    "sns.heatmap(data.corr(),  cmap = 'twilight', annot=True).set_title(\"Pairwise correlation\")"
   ]
  },
  {
   "cell_type": "code",
   "execution_count": null,
   "metadata": {
    "collapsed": false
   },
   "outputs": [],
   "source": [
    "fig = plt.figure(figsize=(20, 12))\n",
    "fig.add_subplot(2, 2, 1)\n",
    "sns.lineplot(x='failures', y='G3', err_kws={'hatch': '///', 'fc': 'pink'}, data=data).set_title('Failures vs G3')\n",
    "fig.add_subplot(2, 2, 2)\n",
    "sns.lineplot(x='absences', y='G3', err_kws={'hatch': '///', 'fc': 'pink'}, data=data).set_title('Absences vs G3')\n",
    "fig.add_subplot(2, 2, 3)\n",
    "sns.lineplot(x='famEdu', y='G3', err_kws={'hatch': '///', 'fc': 'pink'}, data=data).set_title('Family education vs G3')"
   ]
  },
  {
   "cell_type": "markdown",
   "metadata": {
    "collapsed": false
   },
   "source": [
    "#### Important Categorical Predictors"
   ]
  },
  {
   "cell_type": "code",
   "execution_count": null,
   "metadata": {
    "collapsed": false
   },
   "outputs": [],
   "source": [
    "data = pd.read_csv(\"data/student-mat.csv\")\n",
    "fig = plt.figure(figsize=(20, 12))\n",
    "fig.add_subplot(2, 2, 1)\n",
    "sns.boxplot(x='schoolsup', y='G3', data=data).set_title('schoolsup vs G3')\n",
    "fig.add_subplot(2, 2, 2)\n",
    "sns.boxplot(x='romantic', y='G3', data=data).set_title('romantic vs G3')\n",
    "fig.add_subplot(2, 2, 3)\n",
    "sns.boxplot(x='Mjob', y='G3', data=data).set_title('Failures vs G3')\n",
    "fig.add_subplot(2, 2, 4)\n",
    "sns.boxplot(x='Fjob', y='G3', data=data).set_title('freetime vs G3')"
   ]
  },
  {
   "cell_type": "markdown",
   "metadata": {
    "collapsed": false
   },
   "source": [
    "#### EDA for Nested Model\n",
    "*Yuyan Zhang*"
   ]
  },
  {
   "cell_type": "markdown",
   "metadata": {
    "collapsed": false
   },
   "source": [
    "#### EDA for Progress Model\n",
    "*Yiru Zhang*"
   ]
  },
  {
   "cell_type": "markdown",
   "metadata": {
    "collapsed": false
   },
   "source": []
  },
  {
   "cell_type": "markdown",
   "id": "e4bd74a9",
   "metadata": {},
   "source": [
    "Put code with comments. The comments should explain the code such that it can be easily understood. You may put text *(in a markdown cell)* before a large chunk of code to explain the overall purpose of the code, if it is not intuitive. **Put the name of the person / persons who contributed to each code chunk / set of code chunks.**"
   ]
  },
  {
   "cell_type": "markdown",
   "id": "acab331a",
   "metadata": {},
   "source": [
    "## Developing the model"
   ]
  },
  {
   "cell_type": "markdown",
   "id": "ae5ec4c9",
   "metadata": {},
   "source": [
    "Put code with comments. The comments should explain the code such that it can be easily understood. You may put text *(in a markdown cell)* before a large chunk of code to explain the overall purpose of the code, if it is not intuitive. **Put the name of the person / persons who contributed to each code chunk / set of code chunks.**"
   ]
  },
  {
   "cell_type": "markdown",
   "metadata": {
    "collapsed": false
   },
   "source": [
    "#### Base Model Development\n",
    "*Victoria*"
   ]
  },
  {
   "cell_type": "code",
   "execution_count": null,
   "metadata": {
    "collapsed": false
   },
   "outputs": [],
   "source": [
    "######-----------Shuffling the dataset via train-test split for K-fold------------#########\n",
    "\n",
    "# Import the train_test_split and KFold function\n",
    "from sklearn.model_selection import train_test_split, KFold\n",
    "\n",
    "# create a copy of the cleaned and transformed data frame and assign it to data (for base model development)\n",
    "data = df.copy()\n",
    "predictor_cols = [col for col in data.columns.tolist() if col not in ['G1', 'G2', 'G3']]\n",
    "\n",
    "X = data[predictor_cols]\n",
    "\n",
    "y = data.G3\n",
    "\n",
    "# Define the KFold cross-validation object with 10 splits, a random state of 1, and shuffling enabled\n",
    "k_fold = KFold(n_splits=10, random_state=1, shuffle=True)\n",
    "\n",
    "# Split the data into training and test sets using the train_test_split function\n",
    "# The test set will be 20% of the total data and the random state is set to 1\n",
    "X_train, X_test, y_train, y_test = train_test_split(X, y, test_size=0.2, random_state=1)\n",
    "\n",
    "print(f\"dimension of training set: {X_train.shape}\\ndimension of testing set: {X_test.shape}\")"
   ]
  },
  {
   "cell_type": "markdown",
   "metadata": {
    "collapsed": false
   },
   "source": [
    "#### Important Predictors (Overall)"
   ]
  },
  {
   "cell_type": "code",
   "execution_count": null,
   "metadata": {
    "collapsed": false
   },
   "outputs": [],
   "source": [
    "# Import the DecisionTreeRegressor class\n",
    "from sklearn.tree import DecisionTreeRegressor\n",
    "\n",
    "# Initialize a DecisionTreeRegressor object and set the random state to 1 for reproducibility\n",
    "model_tree = DecisionTreeRegressor(random_state=1)\n",
    "\n",
    "# Fit the model to the training data\n",
    "model_tree.fit(X_train, y_train)\n",
    "\n",
    "# Create a pandas Series object to store the feature importance\n",
    "importance = pd.Series(model_tree.feature_importances_, index=X.columns)\n",
    "\n",
    "# Plot the 10 largest feature importance using a horizontal bar plot\n",
    "importance.nlargest(10).plot(kind='barh')\n",
    "plt.show()"
   ]
  },
  {
   "cell_type": "markdown",
   "metadata": {
    "collapsed": false
   },
   "source": [
    "#### Important Categorical Predictors"
   ]
  },
  {
   "cell_type": "code",
   "execution_count": null,
   "metadata": {
    "collapsed": false
   },
   "outputs": [],
   "source": [
    "from sklearn.feature_selection import SelectKBest, chi2"
   ]
  },
  {
   "cell_type": "code",
   "execution_count": null,
   "metadata": {
    "collapsed": false
   },
   "outputs": [],
   "source": [
    "X_cat = X.drop(columns='Alc')\n",
    "\n",
    "# Select only categorical columns from the dataframe X_cat\n",
    "X_cat = X_cat.loc[:, [col for col in X_cat.columns if col not in num_col]]\n",
    "\n",
    "# Apply SelectKBest with chi-square test to select the best 5 features\n",
    "k_best = SelectKBest(score_func=chi2, k=5).fit(X_cat, y)\n",
    "\n",
    "# Create a pandas series to store the scores of each feature\n",
    "df_score = pd.Series(data=k_best.scores_, index=X_cat.columns)\n",
    "\n",
    "# Sort the scores in descending order\n",
    "df_score.sort_values(ascending=False)[:5]"
   ]
  },
  {
   "cell_type": "code",
   "execution_count": null,
   "metadata": {
    "collapsed": false
   },
   "outputs": [],
   "source": [
    "# concatenate X_train and y_train so that predictors and response are in the same dataset\n",
    "train = pd.concat([X_train, y_train], axis=1)\n",
    "\n",
    "# concatenate X_test and y_test so that predictors and response are in the same dataset\n",
    "test = pd.concat([X_test, y_test], axis=1)"
   ]
  },
  {
   "cell_type": "code",
   "execution_count": null,
   "metadata": {
    "collapsed": false
   },
   "outputs": [],
   "source": [
    "# function to test prediction accuracy\n",
    "def acc(_lm, _Xtest, _ytest):\n",
    "    y_pred = _lm.predict(_Xtest)\n",
    "    df = pd.concat([y_pred, _ytest], axis=1)\n",
    "    test_res = pd.DataFrame(df, columns=[\"predicted\", \"actual\"], dtype=\"float64\")\n",
    "    test_res[y_pred < 12], test_res[y_pred >= 12] = 0, 1\n",
    "    test_res[y_pred < 6], test_res[y_pred >= 12] = 0, 1\n",
    "    y_test[y_test < 12], y_test[y_test >= 12] = 0, 1\n",
    "    return np.mean(test_res.predicted == test_res.actual)\n",
    "\n",
    "\n",
    "# function to format and print result\n",
    "def display_res(lm_formula):\n",
    "    lm = smf.ols(formula=lm_formula, data=train).fit()\n",
    "    r2 = lm.rsquared\n",
    "    acc_test = acc(lm, test, y_test)\n",
    "    acc_full = acc(lm, X, y)\n",
    "    print(f\"{lm_formula}\\nR-Squared = {r2:.4f}\\nAccuracy on test set: {acc_test}\\tfull dataset: {acc_full}\")"
   ]
  },
  {
   "cell_type": "code",
   "execution_count": null,
   "metadata": {
    "collapsed": false
   },
   "outputs": [],
   "source": [
    "lm0 = 'G3 ~ absences'\n",
    "display_res(lm0)\n",
    "\n",
    "lm1 = 'G3 ~ absences + failures'\n",
    "display_res(lm1)\n",
    "\n",
    "lm2 = 'G3 ~ absences * failures'\n",
    "display_res(lm2)"
   ]
  },
  {
   "cell_type": "markdown",
   "id": "6444e611",
   "metadata": {},
   "source": [
    "### Code fitting the final model"
   ]
  },
  {
   "cell_type": "markdown",
   "id": "f6cae72f",
   "metadata": {},
   "source": [
    "Put the code(s) that fit the final model(s) in separate cell(s), i.e., the code with the `.ols()` or `.logit()` functions."
   ]
  },
  {
   "cell_type": "markdown",
   "id": "62a185cb",
   "metadata": {},
   "source": [
    "## Conclusions and Recommendations to stakeholder(s)\n",
    "\n",
    "You may or may not have code to put in this section. Delete this section if it is irrelevant."
   ]
  }
 ],
 "metadata": {
  "kernelspec": {
   "display_name": "Python 3",
   "language": "python",
   "name": "python3"
  },
  "language_info": {
   "codemirror_mode": {
    "name": "ipython",
    "version": 3
   },
   "file_extension": ".py",
   "mimetype": "text/x-python",
   "name": "python",
   "nbconvert_exporter": "python",
   "pygments_lexer": "ipython3",
   "version": "3.9.12"
  }
 },
 "nbformat": 4,
 "nbformat_minor": 5
}
