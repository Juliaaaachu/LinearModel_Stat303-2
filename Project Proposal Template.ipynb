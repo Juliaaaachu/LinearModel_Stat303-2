{
 "cells": [
  {
   "cell_type": "raw",
   "id": "33dd6c4c",
   "metadata": {},
   "source": [
    "---\n",
    "title: \"Project proposal\"\n",
    "format: \n",
    "  html:\n",
    "    toc: true\n",
    "    toc-title: Contents\n",
    "    code-fold: show\n",
    "    self-contained: true\n",
    "jupyter: python3\n",
    "---"
   ]
  },
  {
   "cell_type": "markdown",
   "id": "0116f49b",
   "metadata": {},
   "source": [
    "## Instructions {-}\n",
    "\n",
    "1. Please answer the following questions as part of your project proposal.\n",
    "\n",
    "2. Write your answers in the *Markdown* cells of the Jupyter notebook. You don't need to write any code, but if you want to, you may use the *Code* cells.\n",
    "\n",
    "3. Use [Quarto](https://quarto.org/docs/output-formats/html-basics.html) to print the *.ipynb* file as HTML. You will need to open the command prompt, navigate to the directory containing the file, and use the command: `quarto render filename.ipynb --to html`. Submit the HTML file.\n",
    "\n",
    "4. The project proposal is worth 8 points, and is due on **27th January 2023 at 11:59 pm**. \n",
    "\n",
    "5. You must make one submission as a group, and not individually.\n",
    "\n",
    "6. Each team member must have at least **one commit** on the team's github repository. No points will be awarded to the team member(s) with no commits.\n",
    "\n",
    "7. Share the link of your project's GitHub repository [here](https://docs.google.com/spreadsheets/d/1khao3unpj_vsx4kOSg_Zzo77YK1UWL2w73Oa0aAirOo/edit#gid=0)."
   ]
  },
  {
   "cell_type": "markdown",
   "id": "fe7ea9bb",
   "metadata": {},
   "source": [
    "# 1) Team name\n",
    "Mention your team name.\n",
    "\n",
    "JAVA"
   ]
  },
  {
   "cell_type": "markdown",
   "id": "16fccc9b",
   "metadata": {},
   "source": [
    "# 2) Member names\n",
    "Mention the names of your team members.\n",
    "\n",
    "Julia Chu, Victoria Shi, Yiru Zhang, Yuyan Zhang"
   ]
  },
  {
   "cell_type": "markdown",
   "id": "220a6528",
   "metadata": {},
   "source": [
    "# 3) Link to the GitHub repository\n",
    "Share the link of the team's project repository on GitHub.\n",
    "\n",
    "Also, put the link of your project's GitHub repository [here](https://docs.google.com/spreadsheets/d/1khao3unpj_vsx4kOSg_Zzo77YK1UWL2w73Oa0aAirOo/edit#gid=0).\n",
    "\n",
    "https://github.com/Juliaaaachu/LinearModel_Stat303-2.git\n",
    "\n",
    "ssh: git@github.com:Juliaaaachu/LinearModel_Stat303-2.git"
   ]
  },
  {
   "cell_type": "markdown",
   "id": "16c1a490",
   "metadata": {},
   "source": [
    "# 4) Topic\n",
    "Mention the topic of your course project.\n",
    "\n",
    "**Student Grades**\n",
    "\n",
    "We are curious about the association between the pass/fail of students in two Portuguese schools and attributes like school, sex, age, home-to-school travel time, mother and father education level, weekly study time, internet access at home, whether in a romantic relationship, etc. We hope to find the relationship between these factors and students’ grades (pass/fail), and which factors are most strongly associated with grades. \n",
    "\n",
    "\n",
    "*(0.25 points)*"
   ]
  },
  {
   "cell_type": "markdown",
   "id": "9403cdfb",
   "metadata": {},
   "source": [
    "# 5) Problem statement\n",
    "Explain the problem statement. The problem statement must include:\n",
    "\n",
    "1. The problem\n",
    "\n",
    "2. Is it a regression or classification problem or a combination of both?\n",
    "\n",
    "3. Is it an inference or prediction problem or a combination of both?\n",
    "\n",
    "4. How will you assess model accuracy?\n",
    "\n",
    "  - If it is a classification problem, then which measure(s) will you optimize for your model – precision, recall, false negative rate (FNR), accuracy, ROC-AUC etc., and why?\n",
    "  - If it is a regression problem, then which measure(s) will you optimize for your model – RMSE (Root mean squared error), MAE (mean absolute error), maximum absolute error etc., and why?\n",
    "\n",
    "5. What techniques do you think you may need to use to improve your model? If you have too many variables, some of which are  correlated or collinear, you may need to do variable selection *(techniques for variable selection that you will learn later in the course - stepwise regression, lasso, ridge regression)*. If the variables do not have a linear relationship with the response, or if some of the modeling assumptions are not satisfied, you may need to transform the predictors and/or the response (variable transformation) to obtain a better fit.\n",
    "\n",
    "*(5 points)*"
   ]
  },
  {
   "cell_type": "markdown",
   "id": "023c5837",
   "metadata": {},
   "source": [
    "1. Education, crucial for personal and societal development, equips individuals with knowledge, skills, and values needed to ‘survive’ in society. As a key driver of economic growth and social progress, education is also highly associated with an increase in earnings, lower poverty, and greater productivity. We know – education is essential! What are the complex factors that influence educational success and students' performances? The project wishes to investigate the correlation between a plethora of individual factors and educational outcomes. \n",
    "\n",
    "2. This is a **classification** problem because the result, the final grade, is not continuous. The values are integers from 0 to 20, and we will separate the grades into two groups, pass (12 or above) and fail (below) so we are categorizing students into two groups, making this a classification problem.\n",
    "\n",
    "3. Our grade prediction is an **inference** problem since we are most interested in identifying the factors or set of factors that have the strongest impact on the response. For this classification problem we have 2 different classes in the training set, and by identifying the strength and direction of correlations, we aim to find the relationship between attributes and the class of data in the test set. \n",
    "\n",
    "4. Since we are mainly interested in seeing the relationship between the different factors and grade outcomes, we want to look at multiple metrics, including accuracy, precision, and recall, to strike a balance between all of them. ROC-AUC is a good metric to consider because we are able to specify a threshold of false positives/false negatives we are comfortable with. \n",
    "    If the intention of this project is to understand variables that are correlated with failing in order to identify students who might be struggling in class, and offer them additional help, then it might be best to minimize the false positives (students who actually failed, but are classified by the model as pass) since the school can offer additional resources to more people and the students can decide if they want it. \n",
    "\n",
    "\n",
    "5. We will need to bin the final grades column, which currently has integer values 0-20, into two groups: pass (12 or above) and fail (below). We anticipate that there will be more failing grades than passing grades, so in order to create a more balanced training dataset, we will create a sample where half of the observations are ‘pass’ and half of the observations are ‘fail.’\n",
    "    Since our dataset has many variables, we first need to identify variables that have a statistically significant relationship with the final grade. Many variables are likely correlated, such as health status and absences. Or perhaps the father’s education is collinear with the mother’s education. Therefore, we may use wrapper methods like stepwise regression, forward selection, and backward elimination to choose the best subset of predictors. We may also use lasso and ridge regression to reduce model complexity and multicollinearity, and prevent overfitting. "
   ]
  },
  {
   "cell_type": "markdown",
   "id": "3eb2d4f2",
   "metadata": {},
   "source": [
    "# 6) Data sources\n",
    "\n",
    "What data sources will you use, and how will the data help answer the questions? Explain.\n",
    "\n",
    "If the data is open source, share the link of the data.\n",
    "\n",
    "We are using dataset from Kaggle\n",
    "https://www.kaggle.com/datasets/dipam7/student-grade-prediction \n",
    "\n",
    "This data contains student achievement in secondary education of two Portuguese schools. The data attributes include student grades, demographic, social and school-related features, and it was collected by using school reports and questionnaires. Student grades are recorded three times: first-period grade(G1), second-period grade (G2), and final grade (G3). Two datasets are provided regarding the performance in two distinct subjects: Mathematics (mat) and Portuguese language (por). \n",
    "This data source helps answer our question because it contains student grades in two different subjects and 30 potential factors that might be related to grades. We can use a regression model to analyze the relationship between the given variables in the dataset with our response variable (the final pass or fail for students).\n",
    "\n",
    "\n",
    "*(1 point)*"
   ]
  },
  {
   "cell_type": "markdown",
   "id": "cb8a845f",
   "metadata": {},
   "source": [
    "# 7) Stakeholders"
   ]
  },
  {
   "cell_type": "markdown",
   "id": "d39c782c",
   "metadata": {},
   "source": [
    "Multiple stakeholders may be interested in the results of our project, including:\n",
    "- Parents and students themselves!\n",
    "- Professionals devoted to the education industry (teachers, College admission officials)\n",
    "- Economists or policymakers interested in mitigating the inequality gap\n",
    "\n",
    "By analyzing the dataset hereby identifying potential factors associated with students' grades, our project may help schools to identify areas where they can improve and make changes to better support student success. This can include changes to the curriculum, teaching methodologies, or other resources. Additionally, the project can reveal insights into how different socioeconomic, such as sex, age, home-to-school travel time, and parent education, may impact student performances. These can serve as crucial information for policymakers or economists to better target their efforts to support the younger generation. \n",
    "For students and parents, the project may provide valuable information about what factors are most important for success in school and how they can best support their children through parenting. This could include information on the importance of regular study time, internet access at home, and other factors that may have yet to be previously considered.\n",
    "Overall, the project can benefit all the stakeholders by providing insights that can be used to improve student outcomes, and by helping to identify areas where more research is needed.\n"
   ]
  },
  {
   "cell_type": "markdown",
   "id": "57e41b2a",
   "metadata": {},
   "source": [
    "# 8) Results\n",
    "What kind of results do you expect? \n",
    "\n",
    "How much accuracy is required / desired in your model (based on the metric(s) chosen in question 5), such that it is useful to the stakeholders and why?\n",
    "\n",
    "**Hint:** If it is a classification model, then your model must be at least better than random classification. If it is a regression model, then your model must be at least better than trivial models, such as the one with only the intercept term.\n",
    "\n",
    "*(0.5 point)*"
   ]
  },
  {
   "cell_type": "markdown",
   "id": "4c7a45d6",
   "metadata": {},
   "source": [
    "We expect our classification model to expand our understanding of students' achievement in secondary education. We aim to not only examine the more commonly understood factors like a student's past grades on future grades but also explore the more nuanced attributes that are often overlooked. We also expect our model to give insights into some common mysteries like to what extent does a person's gender say about their grade?\n",
    "\n",
    "We want to achieve 95% classification accuracy. In other words, we want to show our stakeholders that our model can correctly identify 95% of the students (failed and passed combined). We will report our model's false positive rate (FPR), false negative rate (FNR), precision, and recall based on the confusion matrix. Since we cannot predict the exact values for these rates right now, we adopt a comparative approach to quantitatively show our model has lower FNR and FPR and higher precision and recall than random classification, demonstrating its accuracy in detecting students who might fail and shedding lights on dropout prediction and academic early warning systems. "
   ]
  },
  {
   "cell_type": "markdown",
   "id": "0c874b4f",
   "metadata": {},
   "source": [
    "# 9) Work-split\n",
    "We plan to work on the project together in our team meetings.\n"
   ]
  }
 ],
 "metadata": {
  "kernelspec": {
   "display_name": "Python 3 (ipykernel)",
   "language": "python",
   "name": "python3"
  },
  "language_info": {
   "codemirror_mode": {
    "name": "ipython",
    "version": 3
   },
   "file_extension": ".py",
   "mimetype": "text/x-python",
   "name": "python",
   "nbconvert_exporter": "python",
   "pygments_lexer": "ipython3",
   "version": "3.10.4"
  },
  "vscode": {
   "interpreter": {
    "hash": "7e1998ff7f8aa20ada591c520b972326324e5ea05489af9e422744c7c09f6dad"
   }
  }
 },
 "nbformat": 4,
 "nbformat_minor": 5
}
